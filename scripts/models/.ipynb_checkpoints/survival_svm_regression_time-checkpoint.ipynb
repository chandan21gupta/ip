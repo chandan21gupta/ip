{
 "cells": [
  {
   "cell_type": "code",
   "execution_count": 1,
   "metadata": {},
   "outputs": [],
   "source": [
    "#importing libraries\n",
    "import numpy as np\n",
    "import pandas as pd\n",
    "from sklearn.preprocessing import StandardScaler, OneHotEncoder, MinMaxScaler, LabelEncoder\n",
    "from sklearn.model_selection import train_test_split\n",
    "from sklearn.impute import SimpleImputer\n",
    "from sklearn import preprocessing\n",
    "from sksurv.metrics import concordance_index_censored\n",
    "from sksurv.svm import FastSurvivalSVM\n",
    "import lifelines\n",
    "from matplotlib import pyplot as plt\n",
    "from scipy import stats\n",
    "from sklearn_pandas import DataFrameMapper\n",
    "# from sklearn_pandas import CategoricalImputer\n",
    "import lime\n",
    "import lime.lime_tabular\n",
    "import kendall_w as kw\n",
    "from numpy.random import default_rng"
   ]
  },
  {
   "cell_type": "code",
   "execution_count": 2,
   "metadata": {},
   "outputs": [],
   "source": [
    "#setting seed\n",
    "random_state = 20"
   ]
  },
  {
   "cell_type": "code",
   "execution_count": 3,
   "metadata": {},
   "outputs": [
    {
     "data": {
      "text/html": [
       "<div>\n",
       "<style scoped>\n",
       "    .dataframe tbody tr th:only-of-type {\n",
       "        vertical-align: middle;\n",
       "    }\n",
       "\n",
       "    .dataframe tbody tr th {\n",
       "        vertical-align: top;\n",
       "    }\n",
       "\n",
       "    .dataframe thead th {\n",
       "        text-align: right;\n",
       "    }\n",
       "</style>\n",
       "<table border=\"1\" class=\"dataframe\">\n",
       "  <thead>\n",
       "    <tr style=\"text-align: right;\">\n",
       "      <th></th>\n",
       "      <th>Study ID</th>\n",
       "      <th>Patient ID</th>\n",
       "      <th>Sample ID</th>\n",
       "      <th>Age at Diagnosis</th>\n",
       "      <th>Type of Breast Surgery</th>\n",
       "      <th>Cancer Type</th>\n",
       "      <th>Cancer Type Detailed</th>\n",
       "      <th>Cellularity</th>\n",
       "      <th>Chemotherapy</th>\n",
       "      <th>Pam50 + Claudin-low subtype</th>\n",
       "      <th>...</th>\n",
       "      <th>Radio Therapy</th>\n",
       "      <th>Relapse Free Status (Months)</th>\n",
       "      <th>Relapse Free Status</th>\n",
       "      <th>Number of Samples Per Patient</th>\n",
       "      <th>Sample Type</th>\n",
       "      <th>Sex</th>\n",
       "      <th>3-Gene classifier subtype</th>\n",
       "      <th>Tumor Size</th>\n",
       "      <th>Tumor Stage</th>\n",
       "      <th>Patient's Vital Status</th>\n",
       "    </tr>\n",
       "  </thead>\n",
       "  <tbody>\n",
       "    <tr>\n",
       "      <th>0</th>\n",
       "      <td>brca_metabric</td>\n",
       "      <td>MB-0000</td>\n",
       "      <td>MB-0000</td>\n",
       "      <td>75.65</td>\n",
       "      <td>MASTECTOMY</td>\n",
       "      <td>Breast Cancer</td>\n",
       "      <td>Breast Invasive Ductal Carcinoma</td>\n",
       "      <td>NaN</td>\n",
       "      <td>NO</td>\n",
       "      <td>claudin-low</td>\n",
       "      <td>...</td>\n",
       "      <td>YES</td>\n",
       "      <td>138.65</td>\n",
       "      <td>0:Not Recurred</td>\n",
       "      <td>1</td>\n",
       "      <td>Primary</td>\n",
       "      <td>Female</td>\n",
       "      <td>ER-/HER2-</td>\n",
       "      <td>22.0</td>\n",
       "      <td>2.0</td>\n",
       "      <td>Living</td>\n",
       "    </tr>\n",
       "    <tr>\n",
       "      <th>1</th>\n",
       "      <td>brca_metabric</td>\n",
       "      <td>MB-0002</td>\n",
       "      <td>MB-0002</td>\n",
       "      <td>43.19</td>\n",
       "      <td>BREAST CONSERVING</td>\n",
       "      <td>Breast Cancer</td>\n",
       "      <td>Breast Invasive Ductal Carcinoma</td>\n",
       "      <td>High</td>\n",
       "      <td>NO</td>\n",
       "      <td>LumA</td>\n",
       "      <td>...</td>\n",
       "      <td>YES</td>\n",
       "      <td>83.52</td>\n",
       "      <td>0:Not Recurred</td>\n",
       "      <td>1</td>\n",
       "      <td>Primary</td>\n",
       "      <td>Female</td>\n",
       "      <td>ER+/HER2- High Prolif</td>\n",
       "      <td>10.0</td>\n",
       "      <td>1.0</td>\n",
       "      <td>Living</td>\n",
       "    </tr>\n",
       "    <tr>\n",
       "      <th>2</th>\n",
       "      <td>brca_metabric</td>\n",
       "      <td>MB-0005</td>\n",
       "      <td>MB-0005</td>\n",
       "      <td>48.87</td>\n",
       "      <td>MASTECTOMY</td>\n",
       "      <td>Breast Cancer</td>\n",
       "      <td>Breast Invasive Ductal Carcinoma</td>\n",
       "      <td>High</td>\n",
       "      <td>YES</td>\n",
       "      <td>LumB</td>\n",
       "      <td>...</td>\n",
       "      <td>NO</td>\n",
       "      <td>151.28</td>\n",
       "      <td>1:Recurred</td>\n",
       "      <td>1</td>\n",
       "      <td>Primary</td>\n",
       "      <td>Female</td>\n",
       "      <td>NaN</td>\n",
       "      <td>15.0</td>\n",
       "      <td>2.0</td>\n",
       "      <td>Died of Disease</td>\n",
       "    </tr>\n",
       "    <tr>\n",
       "      <th>3</th>\n",
       "      <td>brca_metabric</td>\n",
       "      <td>MB-0006</td>\n",
       "      <td>MB-0006</td>\n",
       "      <td>47.68</td>\n",
       "      <td>MASTECTOMY</td>\n",
       "      <td>Breast Cancer</td>\n",
       "      <td>Breast Mixed Ductal and Lobular Carcinoma</td>\n",
       "      <td>Moderate</td>\n",
       "      <td>YES</td>\n",
       "      <td>LumB</td>\n",
       "      <td>...</td>\n",
       "      <td>YES</td>\n",
       "      <td>162.76</td>\n",
       "      <td>0:Not Recurred</td>\n",
       "      <td>1</td>\n",
       "      <td>Primary</td>\n",
       "      <td>Female</td>\n",
       "      <td>NaN</td>\n",
       "      <td>25.0</td>\n",
       "      <td>2.0</td>\n",
       "      <td>Living</td>\n",
       "    </tr>\n",
       "    <tr>\n",
       "      <th>4</th>\n",
       "      <td>brca_metabric</td>\n",
       "      <td>MB-0008</td>\n",
       "      <td>MB-0008</td>\n",
       "      <td>76.97</td>\n",
       "      <td>MASTECTOMY</td>\n",
       "      <td>Breast Cancer</td>\n",
       "      <td>Breast Mixed Ductal and Lobular Carcinoma</td>\n",
       "      <td>High</td>\n",
       "      <td>YES</td>\n",
       "      <td>LumB</td>\n",
       "      <td>...</td>\n",
       "      <td>YES</td>\n",
       "      <td>18.55</td>\n",
       "      <td>1:Recurred</td>\n",
       "      <td>1</td>\n",
       "      <td>Primary</td>\n",
       "      <td>Female</td>\n",
       "      <td>ER+/HER2- High Prolif</td>\n",
       "      <td>40.0</td>\n",
       "      <td>2.0</td>\n",
       "      <td>Died of Disease</td>\n",
       "    </tr>\n",
       "  </tbody>\n",
       "</table>\n",
       "<p>5 rows × 38 columns</p>\n",
       "</div>"
      ],
      "text/plain": [
       "        Study ID Patient ID Sample ID  Age at Diagnosis  \\\n",
       "0  brca_metabric    MB-0000   MB-0000             75.65   \n",
       "1  brca_metabric    MB-0002   MB-0002             43.19   \n",
       "2  brca_metabric    MB-0005   MB-0005             48.87   \n",
       "3  brca_metabric    MB-0006   MB-0006             47.68   \n",
       "4  brca_metabric    MB-0008   MB-0008             76.97   \n",
       "\n",
       "  Type of Breast Surgery    Cancer Type  \\\n",
       "0             MASTECTOMY  Breast Cancer   \n",
       "1      BREAST CONSERVING  Breast Cancer   \n",
       "2             MASTECTOMY  Breast Cancer   \n",
       "3             MASTECTOMY  Breast Cancer   \n",
       "4             MASTECTOMY  Breast Cancer   \n",
       "\n",
       "                        Cancer Type Detailed Cellularity Chemotherapy  \\\n",
       "0           Breast Invasive Ductal Carcinoma         NaN           NO   \n",
       "1           Breast Invasive Ductal Carcinoma        High           NO   \n",
       "2           Breast Invasive Ductal Carcinoma        High          YES   \n",
       "3  Breast Mixed Ductal and Lobular Carcinoma    Moderate          YES   \n",
       "4  Breast Mixed Ductal and Lobular Carcinoma        High          YES   \n",
       "\n",
       "  Pam50 + Claudin-low subtype  ...  Radio Therapy  \\\n",
       "0                 claudin-low  ...            YES   \n",
       "1                        LumA  ...            YES   \n",
       "2                        LumB  ...             NO   \n",
       "3                        LumB  ...            YES   \n",
       "4                        LumB  ...            YES   \n",
       "\n",
       "  Relapse Free Status (Months) Relapse Free Status  \\\n",
       "0                       138.65      0:Not Recurred   \n",
       "1                        83.52      0:Not Recurred   \n",
       "2                       151.28          1:Recurred   \n",
       "3                       162.76      0:Not Recurred   \n",
       "4                        18.55          1:Recurred   \n",
       "\n",
       "   Number of Samples Per Patient Sample Type     Sex  \\\n",
       "0                              1     Primary  Female   \n",
       "1                              1     Primary  Female   \n",
       "2                              1     Primary  Female   \n",
       "3                              1     Primary  Female   \n",
       "4                              1     Primary  Female   \n",
       "\n",
       "  3-Gene classifier subtype Tumor Size Tumor Stage Patient's Vital Status  \n",
       "0                 ER-/HER2-       22.0         2.0                 Living  \n",
       "1     ER+/HER2- High Prolif       10.0         1.0                 Living  \n",
       "2                       NaN       15.0         2.0        Died of Disease  \n",
       "3                       NaN       25.0         2.0                 Living  \n",
       "4     ER+/HER2- High Prolif       40.0         2.0        Died of Disease  \n",
       "\n",
       "[5 rows x 38 columns]"
      ]
     },
     "execution_count": 3,
     "metadata": {},
     "output_type": "execute_result"
    }
   ],
   "source": [
    "#importing data\n",
    "data = pd.read_table('../../data/brca_metabric_clinical_data.tsv')\n",
    "data.head()"
   ]
  },
  {
   "cell_type": "code",
   "execution_count": 4,
   "metadata": {},
   "outputs": [
    {
     "data": {
      "text/plain": [
       "(2509, 38)"
      ]
     },
     "execution_count": 4,
     "metadata": {},
     "output_type": "execute_result"
    }
   ],
   "source": [
    "data.shape"
   ]
  },
  {
   "cell_type": "code",
   "execution_count": 5,
   "metadata": {},
   "outputs": [
    {
     "data": {
      "text/plain": [
       "Index(['Study ID', 'Patient ID', 'Sample ID', 'Age at Diagnosis',\n",
       "       'Type of Breast Surgery', 'Cancer Type', 'Cancer Type Detailed',\n",
       "       'Cellularity', 'Chemotherapy', 'Pam50 + Claudin-low subtype', 'Cohort',\n",
       "       'ER status measured by IHC', 'ER Status', 'Neoplasm Histologic Grade',\n",
       "       'HER2 status measured by SNP6', 'HER2 Status',\n",
       "       'Tumor Other Histologic Subtype', 'Hormone Therapy',\n",
       "       'Inferred Menopausal State', 'Integrative Cluster',\n",
       "       'Primary Tumor Laterality', 'Lymph nodes examined positive',\n",
       "       'Mutation Count', 'Nottingham prognostic index', 'Oncotree Code',\n",
       "       'Overall Survival (Months)', 'Overall Survival Status', 'PR Status',\n",
       "       'Radio Therapy', 'Relapse Free Status (Months)', 'Relapse Free Status',\n",
       "       'Number of Samples Per Patient', 'Sample Type', 'Sex',\n",
       "       '3-Gene classifier subtype', 'Tumor Size', 'Tumor Stage',\n",
       "       'Patient's Vital Status'],\n",
       "      dtype='object')"
      ]
     },
     "execution_count": 5,
     "metadata": {},
     "output_type": "execute_result"
    }
   ],
   "source": [
    "data.columns"
   ]
  },
  {
   "cell_type": "code",
   "execution_count": 6,
   "metadata": {},
   "outputs": [],
   "source": [
    "#Removing non informative columns\n",
    "data_ = data.drop(['Study ID', 'Patient ID', 'Sample ID', 'Type of Breast Surgery', 'Cancer Type Detailed', 'Cohort'\n",
    "                  , 'HER2 status measured by SNP6', 'Hormone Therapy', 'Integrative Cluster', 'Oncotree Code', 'Pam50 + Claudin-low subtype'\n",
    "                  , 'ER status measured by IHC', 'Number of Samples Per Patient', 'Patient\\'s Vital Status', 'Radio Therapy'\n",
    "                   , 'Sex', 'Cancer Type', 'Tumor Stage', 'Sample Type', '3-Gene classifier subtype', 'Tumor Other Histologic Subtype'], axis = 1)"
   ]
  },
  {
   "cell_type": "code",
   "execution_count": 7,
   "metadata": {},
   "outputs": [
    {
     "data": {
      "text/plain": [
       "(2509, 17)"
      ]
     },
     "execution_count": 7,
     "metadata": {},
     "output_type": "execute_result"
    }
   ],
   "source": [
    "data_.shape"
   ]
  },
  {
   "cell_type": "code",
   "execution_count": 8,
   "metadata": {},
   "outputs": [
    {
     "data": {
      "text/plain": [
       "0         0:LIVING\n",
       "1         0:LIVING\n",
       "2       1:DECEASED\n",
       "3         0:LIVING\n",
       "4       1:DECEASED\n",
       "           ...    \n",
       "2504           NaN\n",
       "2505           NaN\n",
       "2506           NaN\n",
       "2507           NaN\n",
       "2508           NaN\n",
       "Name: Overall Survival Status, Length: 2509, dtype: object"
      ]
     },
     "execution_count": 8,
     "metadata": {},
     "output_type": "execute_result"
    }
   ],
   "source": [
    "data_['Overall Survival Status'] "
   ]
  },
  {
   "cell_type": "code",
   "execution_count": 9,
   "metadata": {},
   "outputs": [],
   "source": [
    "#Categorizing Columns\n",
    "leave_columns = ['Cellularity', 'Chemotherapy', 'ER Status', 'HER2 Status', \n",
    "                 'Inferred Menopausal State', 'Primary Tumor Laterality', 'PR Status', 'Neoplasm Histologic Grade']\n",
    "numerical_columns = ['Age at Diagnosis', 'Lymph nodes examined positive', 'Mutation Count',\n",
    "                    'Nottingham prognostic index', 'Relapse Free Status (Months)', 'Tumor Size']\n",
    "labels = ['Overall Survival Status', 'Overall Survival (Months)']\n"
   ]
  },
  {
   "cell_type": "code",
   "execution_count": 10,
   "metadata": {},
   "outputs": [],
   "source": [
    "#Selecting those rows for which Overall Survival Status is not NA\n",
    "data_ = data_[data_['Overall Survival Status'].notna()]\n",
    "#Selecting those samples for which Overall Survival Time is greater than 0\n",
    "data_ = data_[data_['Overall Survival (Months)'] > 0]"
   ]
  },
  {
   "cell_type": "code",
   "execution_count": 11,
   "metadata": {},
   "outputs": [],
   "source": [
    "d = {'0:LIVING': False, '1:DECEASED': True}\n",
    "data_['Overall Survival Status'] = data_['Overall Survival Status'].map(d)"
   ]
  },
  {
   "cell_type": "code",
   "execution_count": 12,
   "metadata": {},
   "outputs": [],
   "source": [
    "#Separating X and Y\n",
    "X = data_[numerical_columns+leave_columns]\n",
    "Y = data_[labels]"
   ]
  },
  {
   "cell_type": "code",
   "execution_count": 13,
   "metadata": {},
   "outputs": [],
   "source": [
    "#Dividing training and testing data\n",
    "X_train, X_test, y_train, y_test = train_test_split(X, Y, test_size=0.20, random_state=random_state)"
   ]
  },
  {
   "cell_type": "code",
   "execution_count": 14,
   "metadata": {},
   "outputs": [
    {
     "data": {
      "text/html": [
       "<div>\n",
       "<style scoped>\n",
       "    .dataframe tbody tr th:only-of-type {\n",
       "        vertical-align: middle;\n",
       "    }\n",
       "\n",
       "    .dataframe tbody tr th {\n",
       "        vertical-align: top;\n",
       "    }\n",
       "\n",
       "    .dataframe thead th {\n",
       "        text-align: right;\n",
       "    }\n",
       "</style>\n",
       "<table border=\"1\" class=\"dataframe\">\n",
       "  <thead>\n",
       "    <tr style=\"text-align: right;\">\n",
       "      <th></th>\n",
       "      <th>Cellularity</th>\n",
       "      <th>Chemotherapy</th>\n",
       "      <th>ER Status</th>\n",
       "      <th>HER2 Status</th>\n",
       "      <th>Inferred Menopausal State</th>\n",
       "      <th>Primary Tumor Laterality</th>\n",
       "      <th>PR Status</th>\n",
       "      <th>Neoplasm Histologic Grade</th>\n",
       "    </tr>\n",
       "  </thead>\n",
       "  <tbody>\n",
       "    <tr>\n",
       "      <th>99</th>\n",
       "      <td>Low</td>\n",
       "      <td>YES</td>\n",
       "      <td>Positive</td>\n",
       "      <td>Negative</td>\n",
       "      <td>Pre</td>\n",
       "      <td>Right</td>\n",
       "      <td>Positive</td>\n",
       "      <td>2.0</td>\n",
       "    </tr>\n",
       "    <tr>\n",
       "      <th>1534</th>\n",
       "      <td>Moderate</td>\n",
       "      <td>NO</td>\n",
       "      <td>Positive</td>\n",
       "      <td>Negative</td>\n",
       "      <td>Pre</td>\n",
       "      <td>Left</td>\n",
       "      <td>Positive</td>\n",
       "      <td>2.0</td>\n",
       "    </tr>\n",
       "    <tr>\n",
       "      <th>909</th>\n",
       "      <td>Moderate</td>\n",
       "      <td>NO</td>\n",
       "      <td>Positive</td>\n",
       "      <td>Negative</td>\n",
       "      <td>Post</td>\n",
       "      <td>Left</td>\n",
       "      <td>Positive</td>\n",
       "      <td>3.0</td>\n",
       "    </tr>\n",
       "    <tr>\n",
       "      <th>1645</th>\n",
       "      <td>Moderate</td>\n",
       "      <td>NO</td>\n",
       "      <td>Negative</td>\n",
       "      <td>Negative</td>\n",
       "      <td>Post</td>\n",
       "      <td>Right</td>\n",
       "      <td>Negative</td>\n",
       "      <td>3.0</td>\n",
       "    </tr>\n",
       "    <tr>\n",
       "      <th>285</th>\n",
       "      <td>Low</td>\n",
       "      <td>YES</td>\n",
       "      <td>Negative</td>\n",
       "      <td>Negative</td>\n",
       "      <td>Post</td>\n",
       "      <td>Left</td>\n",
       "      <td>Negative</td>\n",
       "      <td>3.0</td>\n",
       "    </tr>\n",
       "    <tr>\n",
       "      <th>...</th>\n",
       "      <td>...</td>\n",
       "      <td>...</td>\n",
       "      <td>...</td>\n",
       "      <td>...</td>\n",
       "      <td>...</td>\n",
       "      <td>...</td>\n",
       "      <td>...</td>\n",
       "      <td>...</td>\n",
       "    </tr>\n",
       "    <tr>\n",
       "      <th>929</th>\n",
       "      <td>High</td>\n",
       "      <td>YES</td>\n",
       "      <td>Negative</td>\n",
       "      <td>Negative</td>\n",
       "      <td>Pre</td>\n",
       "      <td>Right</td>\n",
       "      <td>Negative</td>\n",
       "      <td>3.0</td>\n",
       "    </tr>\n",
       "    <tr>\n",
       "      <th>1252</th>\n",
       "      <td>High</td>\n",
       "      <td>NO</td>\n",
       "      <td>Positive</td>\n",
       "      <td>Negative</td>\n",
       "      <td>Post</td>\n",
       "      <td>Right</td>\n",
       "      <td>Negative</td>\n",
       "      <td>2.0</td>\n",
       "    </tr>\n",
       "    <tr>\n",
       "      <th>275</th>\n",
       "      <td>High</td>\n",
       "      <td>YES</td>\n",
       "      <td>Positive</td>\n",
       "      <td>Positive</td>\n",
       "      <td>Pre</td>\n",
       "      <td>Right</td>\n",
       "      <td>Positive</td>\n",
       "      <td>3.0</td>\n",
       "    </tr>\n",
       "    <tr>\n",
       "      <th>479</th>\n",
       "      <td>Moderate</td>\n",
       "      <td>NO</td>\n",
       "      <td>Negative</td>\n",
       "      <td>Negative</td>\n",
       "      <td>Post</td>\n",
       "      <td>Right</td>\n",
       "      <td>Negative</td>\n",
       "      <td>3.0</td>\n",
       "    </tr>\n",
       "    <tr>\n",
       "      <th>1384</th>\n",
       "      <td>Low</td>\n",
       "      <td>NO</td>\n",
       "      <td>Positive</td>\n",
       "      <td>Negative</td>\n",
       "      <td>Post</td>\n",
       "      <td>Right</td>\n",
       "      <td>Negative</td>\n",
       "      <td>3.0</td>\n",
       "    </tr>\n",
       "  </tbody>\n",
       "</table>\n",
       "<p>1584 rows × 8 columns</p>\n",
       "</div>"
      ],
      "text/plain": [
       "     Cellularity Chemotherapy ER Status HER2 Status Inferred Menopausal State  \\\n",
       "99           Low          YES  Positive    Negative                       Pre   \n",
       "1534    Moderate           NO  Positive    Negative                       Pre   \n",
       "909     Moderate           NO  Positive    Negative                      Post   \n",
       "1645    Moderate           NO  Negative    Negative                      Post   \n",
       "285          Low          YES  Negative    Negative                      Post   \n",
       "...          ...          ...       ...         ...                       ...   \n",
       "929         High          YES  Negative    Negative                       Pre   \n",
       "1252        High           NO  Positive    Negative                      Post   \n",
       "275         High          YES  Positive    Positive                       Pre   \n",
       "479     Moderate           NO  Negative    Negative                      Post   \n",
       "1384         Low           NO  Positive    Negative                      Post   \n",
       "\n",
       "     Primary Tumor Laterality PR Status  Neoplasm Histologic Grade  \n",
       "99                      Right  Positive                        2.0  \n",
       "1534                     Left  Positive                        2.0  \n",
       "909                      Left  Positive                        3.0  \n",
       "1645                    Right  Negative                        3.0  \n",
       "285                      Left  Negative                        3.0  \n",
       "...                       ...       ...                        ...  \n",
       "929                     Right  Negative                        3.0  \n",
       "1252                    Right  Negative                        2.0  \n",
       "275                     Right  Positive                        3.0  \n",
       "479                     Right  Negative                        3.0  \n",
       "1384                    Right  Negative                        3.0  \n",
       "\n",
       "[1584 rows x 8 columns]"
      ]
     },
     "execution_count": 14,
     "metadata": {},
     "output_type": "execute_result"
    }
   ],
   "source": [
    "# cat = X_train[leave_columns].to_numpy()\n",
    "X_train[leave_columns]"
   ]
  },
  {
   "cell_type": "code",
   "execution_count": 15,
   "metadata": {},
   "outputs": [],
   "source": [
    "numer_imputer = [([col], [SimpleImputer(missing_values = np.nan, strategy = 'mean')]) for col in numerical_columns]\n",
    "col_imputer = [([col], [SimpleImputer(missing_values = np.nan, strategy = 'most_frequent')]) for col in leave_columns]\n",
    "imputer_mapper = DataFrameMapper(numer_imputer + col_imputer, df_out = True)"
   ]
  },
  {
   "cell_type": "code",
   "execution_count": 16,
   "metadata": {},
   "outputs": [
    {
     "data": {
      "text/plain": [
       "{6: array(['High', 'Low', 'Moderate'], dtype=object),\n",
       " 7: array(['NO', 'YES'], dtype=object),\n",
       " 8: array(['Negative', 'Positive'], dtype=object),\n",
       " 9: array(['Negative', 'Positive'], dtype=object),\n",
       " 10: array(['Post', 'Pre'], dtype=object),\n",
       " 11: array(['Left', 'Right'], dtype=object),\n",
       " 12: array(['Negative', 'Positive'], dtype=object),\n",
       " 13: array([1., 2., 3.])}"
      ]
     },
     "execution_count": 16,
     "metadata": {},
     "output_type": "execute_result"
    }
   ],
   "source": [
    "X_train = imputer_mapper.fit_transform(X_train)\n",
    "X_test = imputer_mapper.transform(X_test)\n",
    "# x_train_double_temp = inference_mapper.fit_transform(X_train)\n",
    "# categorical_features = [6, 7, 8, 9, 10, 11, 12, 13]\n",
    "categorical_names = {}\n",
    "i = 6\n",
    "for feature in leave_columns:\n",
    "    le = LabelEncoder()\n",
    "    le.fit(X_train[feature])\n",
    "    X_train[feature] = le.transform(X_train[feature])\n",
    "    X_test[feature] = le.transform(X_test[feature])\n",
    "    categorical_names[i] = le.classes_\n",
    "    i += 1\n",
    "categorical_names"
   ]
  },
  {
   "cell_type": "code",
   "execution_count": 17,
   "metadata": {},
   "outputs": [],
   "source": [
    "numer_preprocess = [([col], [MinMaxScaler()]) for col in numerical_columns]\n",
    "leave_preprocess = [([col], [OneHotEncoder()]) for col in leave_columns]\n",
    "encoder_mapper = DataFrameMapper(numer_preprocess+leave_preprocess, df_out = False)\n",
    "# numer_preprocess_1 = [([col], [SimpleImputer(missing_values = np.nan, strategy = 'mean')]) for col in numerical_columns]\n",
    "# leave_preprocess_1 = [([col], [SimpleImputer(missing_values = np.nan, strategy = 'most_frequent')]) for col in leave_columns]\n",
    "# inference_mapper = DataFrameMapper(numer_preprocess_1+leave_preprocess_1, df_out = False)"
   ]
  },
  {
   "cell_type": "code",
   "execution_count": 18,
   "metadata": {},
   "outputs": [],
   "source": [
    "x_mapper_temp = DataFrameMapper(numer_preprocess+leave_preprocess, df_out = True)\n",
    "# inf_mapper_temp = DataFrameMapper(numer_preprocess_1+leave_preprocess_1, df_out = True)"
   ]
  },
  {
   "cell_type": "code",
   "execution_count": 19,
   "metadata": {},
   "outputs": [],
   "source": [
    "x_temp = x_mapper_temp.fit_transform(X_train)\n",
    "# inf_temp = inf_mapper_temp.fit_transform(X_train)"
   ]
  },
  {
   "cell_type": "code",
   "execution_count": 20,
   "metadata": {},
   "outputs": [
    {
     "data": {
      "text/html": [
       "<div>\n",
       "<style scoped>\n",
       "    .dataframe tbody tr th:only-of-type {\n",
       "        vertical-align: middle;\n",
       "    }\n",
       "\n",
       "    .dataframe tbody tr th {\n",
       "        vertical-align: top;\n",
       "    }\n",
       "\n",
       "    .dataframe thead th {\n",
       "        text-align: right;\n",
       "    }\n",
       "</style>\n",
       "<table border=\"1\" class=\"dataframe\">\n",
       "  <thead>\n",
       "    <tr style=\"text-align: right;\">\n",
       "      <th></th>\n",
       "      <th>Age at Diagnosis</th>\n",
       "      <th>Lymph nodes examined positive</th>\n",
       "      <th>Mutation Count</th>\n",
       "      <th>Nottingham prognostic index</th>\n",
       "      <th>Relapse Free Status (Months)</th>\n",
       "      <th>Tumor Size</th>\n",
       "      <th>Cellularity_x0_0</th>\n",
       "      <th>Cellularity_x0_1</th>\n",
       "      <th>Cellularity_x0_2</th>\n",
       "      <th>Chemotherapy_x0_0</th>\n",
       "      <th>...</th>\n",
       "      <th>HER2 Status_x0_1</th>\n",
       "      <th>Inferred Menopausal State_x0_0</th>\n",
       "      <th>Inferred Menopausal State_x0_1</th>\n",
       "      <th>Primary Tumor Laterality_x0_0</th>\n",
       "      <th>Primary Tumor Laterality_x0_1</th>\n",
       "      <th>PR Status_x0_0</th>\n",
       "      <th>PR Status_x0_1</th>\n",
       "      <th>Neoplasm Histologic Grade_x0_0</th>\n",
       "      <th>Neoplasm Histologic Grade_x0_1</th>\n",
       "      <th>Neoplasm Histologic Grade_x0_2</th>\n",
       "    </tr>\n",
       "  </thead>\n",
       "  <tbody>\n",
       "    <tr>\n",
       "      <th>99</th>\n",
       "      <td>0.372881</td>\n",
       "      <td>0.022222</td>\n",
       "      <td>0.075949</td>\n",
       "      <td>0.567164</td>\n",
       "      <td>0.393441</td>\n",
       "      <td>0.104972</td>\n",
       "      <td>0.0</td>\n",
       "      <td>1.0</td>\n",
       "      <td>0.0</td>\n",
       "      <td>0.0</td>\n",
       "      <td>...</td>\n",
       "      <td>0.0</td>\n",
       "      <td>0.0</td>\n",
       "      <td>1.0</td>\n",
       "      <td>0.0</td>\n",
       "      <td>1.0</td>\n",
       "      <td>0.0</td>\n",
       "      <td>1.0</td>\n",
       "      <td>0.0</td>\n",
       "      <td>1.0</td>\n",
       "      <td>0.0</td>\n",
       "    </tr>\n",
       "    <tr>\n",
       "      <th>1534</th>\n",
       "      <td>0.346817</td>\n",
       "      <td>0.000000</td>\n",
       "      <td>0.164557</td>\n",
       "      <td>0.378731</td>\n",
       "      <td>0.066488</td>\n",
       "      <td>0.077348</td>\n",
       "      <td>0.0</td>\n",
       "      <td>0.0</td>\n",
       "      <td>1.0</td>\n",
       "      <td>1.0</td>\n",
       "      <td>...</td>\n",
       "      <td>0.0</td>\n",
       "      <td>0.0</td>\n",
       "      <td>1.0</td>\n",
       "      <td>1.0</td>\n",
       "      <td>0.0</td>\n",
       "      <td>0.0</td>\n",
       "      <td>1.0</td>\n",
       "      <td>0.0</td>\n",
       "      <td>1.0</td>\n",
       "      <td>0.0</td>\n",
       "    </tr>\n",
       "    <tr>\n",
       "      <th>909</th>\n",
       "      <td>0.696624</td>\n",
       "      <td>0.022222</td>\n",
       "      <td>0.101266</td>\n",
       "      <td>0.763060</td>\n",
       "      <td>0.486893</td>\n",
       "      <td>0.243094</td>\n",
       "      <td>0.0</td>\n",
       "      <td>0.0</td>\n",
       "      <td>1.0</td>\n",
       "      <td>1.0</td>\n",
       "      <td>...</td>\n",
       "      <td>0.0</td>\n",
       "      <td>1.0</td>\n",
       "      <td>0.0</td>\n",
       "      <td>1.0</td>\n",
       "      <td>0.0</td>\n",
       "      <td>0.0</td>\n",
       "      <td>1.0</td>\n",
       "      <td>0.0</td>\n",
       "      <td>0.0</td>\n",
       "      <td>1.0</td>\n",
       "    </tr>\n",
       "    <tr>\n",
       "      <th>1645</th>\n",
       "      <td>0.550776</td>\n",
       "      <td>0.000000</td>\n",
       "      <td>0.063291</td>\n",
       "      <td>0.576866</td>\n",
       "      <td>0.728218</td>\n",
       "      <td>0.248619</td>\n",
       "      <td>0.0</td>\n",
       "      <td>0.0</td>\n",
       "      <td>1.0</td>\n",
       "      <td>1.0</td>\n",
       "      <td>...</td>\n",
       "      <td>0.0</td>\n",
       "      <td>1.0</td>\n",
       "      <td>0.0</td>\n",
       "      <td>0.0</td>\n",
       "      <td>1.0</td>\n",
       "      <td>1.0</td>\n",
       "      <td>0.0</td>\n",
       "      <td>0.0</td>\n",
       "      <td>0.0</td>\n",
       "      <td>1.0</td>\n",
       "    </tr>\n",
       "    <tr>\n",
       "      <th>285</th>\n",
       "      <td>0.662869</td>\n",
       "      <td>0.244444</td>\n",
       "      <td>0.012658</td>\n",
       "      <td>0.949627</td>\n",
       "      <td>0.192794</td>\n",
       "      <td>0.243094</td>\n",
       "      <td>0.0</td>\n",
       "      <td>1.0</td>\n",
       "      <td>0.0</td>\n",
       "      <td>0.0</td>\n",
       "      <td>...</td>\n",
       "      <td>0.0</td>\n",
       "      <td>1.0</td>\n",
       "      <td>0.0</td>\n",
       "      <td>1.0</td>\n",
       "      <td>0.0</td>\n",
       "      <td>1.0</td>\n",
       "      <td>0.0</td>\n",
       "      <td>0.0</td>\n",
       "      <td>0.0</td>\n",
       "      <td>1.0</td>\n",
       "    </tr>\n",
       "  </tbody>\n",
       "</table>\n",
       "<p>5 rows × 24 columns</p>\n",
       "</div>"
      ],
      "text/plain": [
       "      Age at Diagnosis  Lymph nodes examined positive  Mutation Count  \\\n",
       "99            0.372881                       0.022222        0.075949   \n",
       "1534          0.346817                       0.000000        0.164557   \n",
       "909           0.696624                       0.022222        0.101266   \n",
       "1645          0.550776                       0.000000        0.063291   \n",
       "285           0.662869                       0.244444        0.012658   \n",
       "\n",
       "      Nottingham prognostic index  Relapse Free Status (Months)  Tumor Size  \\\n",
       "99                       0.567164                      0.393441    0.104972   \n",
       "1534                     0.378731                      0.066488    0.077348   \n",
       "909                      0.763060                      0.486893    0.243094   \n",
       "1645                     0.576866                      0.728218    0.248619   \n",
       "285                      0.949627                      0.192794    0.243094   \n",
       "\n",
       "      Cellularity_x0_0  Cellularity_x0_1  Cellularity_x0_2  Chemotherapy_x0_0  \\\n",
       "99                 0.0               1.0               0.0                0.0   \n",
       "1534               0.0               0.0               1.0                1.0   \n",
       "909                0.0               0.0               1.0                1.0   \n",
       "1645               0.0               0.0               1.0                1.0   \n",
       "285                0.0               1.0               0.0                0.0   \n",
       "\n",
       "      ...  HER2 Status_x0_1  Inferred Menopausal State_x0_0  \\\n",
       "99    ...               0.0                             0.0   \n",
       "1534  ...               0.0                             0.0   \n",
       "909   ...               0.0                             1.0   \n",
       "1645  ...               0.0                             1.0   \n",
       "285   ...               0.0                             1.0   \n",
       "\n",
       "      Inferred Menopausal State_x0_1  Primary Tumor Laterality_x0_0  \\\n",
       "99                               1.0                            0.0   \n",
       "1534                             1.0                            1.0   \n",
       "909                              0.0                            1.0   \n",
       "1645                             0.0                            0.0   \n",
       "285                              0.0                            1.0   \n",
       "\n",
       "      Primary Tumor Laterality_x0_1  PR Status_x0_0  PR Status_x0_1  \\\n",
       "99                              1.0             0.0             1.0   \n",
       "1534                            0.0             0.0             1.0   \n",
       "909                             0.0             0.0             1.0   \n",
       "1645                            1.0             1.0             0.0   \n",
       "285                             0.0             1.0             0.0   \n",
       "\n",
       "      Neoplasm Histologic Grade_x0_0  Neoplasm Histologic Grade_x0_1  \\\n",
       "99                               0.0                             1.0   \n",
       "1534                             0.0                             1.0   \n",
       "909                              0.0                             0.0   \n",
       "1645                             0.0                             0.0   \n",
       "285                              0.0                             0.0   \n",
       "\n",
       "      Neoplasm Histologic Grade_x0_2  \n",
       "99                               0.0  \n",
       "1534                             0.0  \n",
       "909                              1.0  \n",
       "1645                             1.0  \n",
       "285                              1.0  \n",
       "\n",
       "[5 rows x 24 columns]"
      ]
     },
     "execution_count": 20,
     "metadata": {},
     "output_type": "execute_result"
    }
   ],
   "source": [
    "x_temp.head()"
   ]
  },
  {
   "cell_type": "code",
   "execution_count": 21,
   "metadata": {},
   "outputs": [],
   "source": [
    "# inf_temp.head()"
   ]
  },
  {
   "cell_type": "code",
   "execution_count": 22,
   "metadata": {},
   "outputs": [],
   "source": [
    "x_train = encoder_mapper.fit_transform(X_train)"
   ]
  },
  {
   "cell_type": "code",
   "execution_count": 23,
   "metadata": {},
   "outputs": [
    {
     "data": {
      "text/plain": [
       "(1584, 24)"
      ]
     },
     "execution_count": 23,
     "metadata": {},
     "output_type": "execute_result"
    }
   ],
   "source": [
    "x_train.shape"
   ]
  },
  {
   "cell_type": "code",
   "execution_count": 24,
   "metadata": {},
   "outputs": [
    {
     "data": {
      "text/html": [
       "<div>\n",
       "<style scoped>\n",
       "    .dataframe tbody tr th:only-of-type {\n",
       "        vertical-align: middle;\n",
       "    }\n",
       "\n",
       "    .dataframe tbody tr th {\n",
       "        vertical-align: top;\n",
       "    }\n",
       "\n",
       "    .dataframe thead th {\n",
       "        text-align: right;\n",
       "    }\n",
       "</style>\n",
       "<table border=\"1\" class=\"dataframe\">\n",
       "  <thead>\n",
       "    <tr style=\"text-align: right;\">\n",
       "      <th></th>\n",
       "      <th>Overall Survival Status</th>\n",
       "      <th>Overall Survival (Months)</th>\n",
       "    </tr>\n",
       "  </thead>\n",
       "  <tbody>\n",
       "    <tr>\n",
       "      <th>99</th>\n",
       "      <td>False</td>\n",
       "      <td>138.100000</td>\n",
       "    </tr>\n",
       "    <tr>\n",
       "      <th>1534</th>\n",
       "      <td>True</td>\n",
       "      <td>155.366667</td>\n",
       "    </tr>\n",
       "    <tr>\n",
       "      <th>909</th>\n",
       "      <td>True</td>\n",
       "      <td>170.900000</td>\n",
       "    </tr>\n",
       "    <tr>\n",
       "      <th>1645</th>\n",
       "      <td>False</td>\n",
       "      <td>255.600000</td>\n",
       "    </tr>\n",
       "    <tr>\n",
       "      <th>285</th>\n",
       "      <td>True</td>\n",
       "      <td>137.100000</td>\n",
       "    </tr>\n",
       "    <tr>\n",
       "      <th>...</th>\n",
       "      <td>...</td>\n",
       "      <td>...</td>\n",
       "    </tr>\n",
       "    <tr>\n",
       "      <th>929</th>\n",
       "      <td>True</td>\n",
       "      <td>282.833333</td>\n",
       "    </tr>\n",
       "    <tr>\n",
       "      <th>1252</th>\n",
       "      <td>True</td>\n",
       "      <td>112.633333</td>\n",
       "    </tr>\n",
       "    <tr>\n",
       "      <th>275</th>\n",
       "      <td>False</td>\n",
       "      <td>96.966667</td>\n",
       "    </tr>\n",
       "    <tr>\n",
       "      <th>479</th>\n",
       "      <td>False</td>\n",
       "      <td>88.000000</td>\n",
       "    </tr>\n",
       "    <tr>\n",
       "      <th>1384</th>\n",
       "      <td>False</td>\n",
       "      <td>2.533333</td>\n",
       "    </tr>\n",
       "  </tbody>\n",
       "</table>\n",
       "<p>1584 rows × 2 columns</p>\n",
       "</div>"
      ],
      "text/plain": [
       "      Overall Survival Status  Overall Survival (Months)\n",
       "99                      False                 138.100000\n",
       "1534                     True                 155.366667\n",
       "909                      True                 170.900000\n",
       "1645                    False                 255.600000\n",
       "285                      True                 137.100000\n",
       "...                       ...                        ...\n",
       "929                      True                 282.833333\n",
       "1252                     True                 112.633333\n",
       "275                     False                  96.966667\n",
       "479                     False                  88.000000\n",
       "1384                    False                   2.533333\n",
       "\n",
       "[1584 rows x 2 columns]"
      ]
     },
     "execution_count": 24,
     "metadata": {},
     "output_type": "execute_result"
    }
   ],
   "source": [
    "y_train"
   ]
  },
  {
   "cell_type": "code",
   "execution_count": 25,
   "metadata": {},
   "outputs": [
    {
     "data": {
      "text/plain": [
       "rec.array([(False, 138.1       ), ( True, 155.3666667 ),\n",
       "           ( True, 170.9       ), ..., (False,  96.96666667),\n",
       "           (False,  88.        ), (False,   2.53333333)],\n",
       "          dtype=[('Overall Survival Status', '?'), ('Overall Survival (Months)', '<f8')])"
      ]
     },
     "execution_count": 25,
     "metadata": {},
     "output_type": "execute_result"
    }
   ],
   "source": [
    "y_train_final = y_train.to_records(index = False, column_dtypes = {'Overall Survival' : 'u1'})\n",
    "y_train_final"
   ]
  },
  {
   "cell_type": "code",
   "execution_count": 26,
   "metadata": {},
   "outputs": [
    {
     "data": {
      "text/plain": [
       "(1584, 24)"
      ]
     },
     "execution_count": 26,
     "metadata": {},
     "output_type": "execute_result"
    }
   ],
   "source": [
    "x_train.shape"
   ]
  },
  {
   "cell_type": "code",
   "execution_count": 27,
   "metadata": {},
   "outputs": [],
   "source": [
    "#Converting survival time to log scale for survival svm model\n",
    "y_train_log_t = y_train_final.copy()\n",
    "y_train_log_t['Overall Survival (Months)'] = np.log1p(y_train_final['Overall Survival (Months)'])"
   ]
  },
  {
   "cell_type": "code",
   "execution_count": 28,
   "metadata": {},
   "outputs": [
    {
     "data": {
      "text/plain": [
       "rec.array([(False, 4.9351931 ), ( True, 5.05220368), ( True, 5.14691291),\n",
       "           ..., (False, 4.58462728), (False, 4.48863637),\n",
       "           (False, 1.26224171)],\n",
       "          dtype=[('Overall Survival Status', '?'), ('Overall Survival (Months)', '<f8')])"
      ]
     },
     "execution_count": 28,
     "metadata": {},
     "output_type": "execute_result"
    }
   ],
   "source": [
    "y_train_log_t"
   ]
  },
  {
   "cell_type": "code",
   "execution_count": 29,
   "metadata": {},
   "outputs": [
    {
     "name": "stdout",
     "output_type": "stream",
     "text": [
      "0.915\n"
     ]
    }
   ],
   "source": [
    "ref_estimator = FastSurvivalSVM(rank_ratio=0.0, max_iter=1000, tol=1e-5, random_state=0)\n",
    "ref_estimator.fit(x_train, y_train_log_t)\n",
    "\n",
    "cindex = concordance_index_censored(\n",
    "    y_train_final['Overall Survival Status'],\n",
    "    y_train_final['Overall Survival (Months)'],\n",
    "    -ref_estimator.predict(x_train),  # flip sign to obtain risk scores\n",
    ")\n",
    "print(round(cindex[0], 3))"
   ]
  },
  {
   "cell_type": "code",
   "execution_count": 30,
   "metadata": {},
   "outputs": [],
   "source": [
    "y_test_final = y_test.to_records(index = False, column_dtypes = {'Overall Survival' : 'u1'})\n",
    "y_test_final\n",
    "x_test = encoder_mapper.transform(X_test)"
   ]
  },
  {
   "cell_type": "code",
   "execution_count": 31,
   "metadata": {},
   "outputs": [],
   "source": [
    "#generating predictions\n",
    "pred_y = np.expm1(ref_estimator.predict(x_test))"
   ]
  },
  {
   "cell_type": "code",
   "execution_count": 32,
   "metadata": {},
   "outputs": [
    {
     "name": "stdout",
     "output_type": "stream",
     "text": [
      "0.896\n"
     ]
    }
   ],
   "source": [
    "cindex = concordance_index_censored(\n",
    "    y_test_final['Overall Survival Status'],\n",
    "    y_test_final['Overall Survival (Months)'],\n",
    "    -ref_estimator.predict(x_test),  # flip sign to obtain risk scores\n",
    ")\n",
    "print(round(cindex[0], 3))"
   ]
  },
  {
   "cell_type": "code",
   "execution_count": 33,
   "metadata": {},
   "outputs": [],
   "source": [
    "x_train_dummy = x_mapper_temp.fit_transform(X_train)"
   ]
  },
  {
   "cell_type": "code",
   "execution_count": 34,
   "metadata": {},
   "outputs": [
    {
     "data": {
      "text/html": [
       "<div>\n",
       "<style scoped>\n",
       "    .dataframe tbody tr th:only-of-type {\n",
       "        vertical-align: middle;\n",
       "    }\n",
       "\n",
       "    .dataframe tbody tr th {\n",
       "        vertical-align: top;\n",
       "    }\n",
       "\n",
       "    .dataframe thead th {\n",
       "        text-align: right;\n",
       "    }\n",
       "</style>\n",
       "<table border=\"1\" class=\"dataframe\">\n",
       "  <thead>\n",
       "    <tr style=\"text-align: right;\">\n",
       "      <th></th>\n",
       "      <th>Age at Diagnosis</th>\n",
       "      <th>Lymph nodes examined positive</th>\n",
       "      <th>Mutation Count</th>\n",
       "      <th>Nottingham prognostic index</th>\n",
       "      <th>Relapse Free Status (Months)</th>\n",
       "      <th>Tumor Size</th>\n",
       "      <th>Cellularity_x0_0</th>\n",
       "      <th>Cellularity_x0_1</th>\n",
       "      <th>Cellularity_x0_2</th>\n",
       "      <th>Chemotherapy_x0_0</th>\n",
       "      <th>...</th>\n",
       "      <th>HER2 Status_x0_1</th>\n",
       "      <th>Inferred Menopausal State_x0_0</th>\n",
       "      <th>Inferred Menopausal State_x0_1</th>\n",
       "      <th>Primary Tumor Laterality_x0_0</th>\n",
       "      <th>Primary Tumor Laterality_x0_1</th>\n",
       "      <th>PR Status_x0_0</th>\n",
       "      <th>PR Status_x0_1</th>\n",
       "      <th>Neoplasm Histologic Grade_x0_0</th>\n",
       "      <th>Neoplasm Histologic Grade_x0_1</th>\n",
       "      <th>Neoplasm Histologic Grade_x0_2</th>\n",
       "    </tr>\n",
       "  </thead>\n",
       "  <tbody>\n",
       "    <tr>\n",
       "      <th>99</th>\n",
       "      <td>0.372881</td>\n",
       "      <td>0.022222</td>\n",
       "      <td>0.075949</td>\n",
       "      <td>0.567164</td>\n",
       "      <td>0.393441</td>\n",
       "      <td>0.104972</td>\n",
       "      <td>0.0</td>\n",
       "      <td>1.0</td>\n",
       "      <td>0.0</td>\n",
       "      <td>0.0</td>\n",
       "      <td>...</td>\n",
       "      <td>0.0</td>\n",
       "      <td>0.0</td>\n",
       "      <td>1.0</td>\n",
       "      <td>0.0</td>\n",
       "      <td>1.0</td>\n",
       "      <td>0.0</td>\n",
       "      <td>1.0</td>\n",
       "      <td>0.0</td>\n",
       "      <td>1.0</td>\n",
       "      <td>0.0</td>\n",
       "    </tr>\n",
       "    <tr>\n",
       "      <th>1534</th>\n",
       "      <td>0.346817</td>\n",
       "      <td>0.000000</td>\n",
       "      <td>0.164557</td>\n",
       "      <td>0.378731</td>\n",
       "      <td>0.066488</td>\n",
       "      <td>0.077348</td>\n",
       "      <td>0.0</td>\n",
       "      <td>0.0</td>\n",
       "      <td>1.0</td>\n",
       "      <td>1.0</td>\n",
       "      <td>...</td>\n",
       "      <td>0.0</td>\n",
       "      <td>0.0</td>\n",
       "      <td>1.0</td>\n",
       "      <td>1.0</td>\n",
       "      <td>0.0</td>\n",
       "      <td>0.0</td>\n",
       "      <td>1.0</td>\n",
       "      <td>0.0</td>\n",
       "      <td>1.0</td>\n",
       "      <td>0.0</td>\n",
       "    </tr>\n",
       "    <tr>\n",
       "      <th>909</th>\n",
       "      <td>0.696624</td>\n",
       "      <td>0.022222</td>\n",
       "      <td>0.101266</td>\n",
       "      <td>0.763060</td>\n",
       "      <td>0.486893</td>\n",
       "      <td>0.243094</td>\n",
       "      <td>0.0</td>\n",
       "      <td>0.0</td>\n",
       "      <td>1.0</td>\n",
       "      <td>1.0</td>\n",
       "      <td>...</td>\n",
       "      <td>0.0</td>\n",
       "      <td>1.0</td>\n",
       "      <td>0.0</td>\n",
       "      <td>1.0</td>\n",
       "      <td>0.0</td>\n",
       "      <td>0.0</td>\n",
       "      <td>1.0</td>\n",
       "      <td>0.0</td>\n",
       "      <td>0.0</td>\n",
       "      <td>1.0</td>\n",
       "    </tr>\n",
       "    <tr>\n",
       "      <th>1645</th>\n",
       "      <td>0.550776</td>\n",
       "      <td>0.000000</td>\n",
       "      <td>0.063291</td>\n",
       "      <td>0.576866</td>\n",
       "      <td>0.728218</td>\n",
       "      <td>0.248619</td>\n",
       "      <td>0.0</td>\n",
       "      <td>0.0</td>\n",
       "      <td>1.0</td>\n",
       "      <td>1.0</td>\n",
       "      <td>...</td>\n",
       "      <td>0.0</td>\n",
       "      <td>1.0</td>\n",
       "      <td>0.0</td>\n",
       "      <td>0.0</td>\n",
       "      <td>1.0</td>\n",
       "      <td>1.0</td>\n",
       "      <td>0.0</td>\n",
       "      <td>0.0</td>\n",
       "      <td>0.0</td>\n",
       "      <td>1.0</td>\n",
       "    </tr>\n",
       "    <tr>\n",
       "      <th>285</th>\n",
       "      <td>0.662869</td>\n",
       "      <td>0.244444</td>\n",
       "      <td>0.012658</td>\n",
       "      <td>0.949627</td>\n",
       "      <td>0.192794</td>\n",
       "      <td>0.243094</td>\n",
       "      <td>0.0</td>\n",
       "      <td>1.0</td>\n",
       "      <td>0.0</td>\n",
       "      <td>0.0</td>\n",
       "      <td>...</td>\n",
       "      <td>0.0</td>\n",
       "      <td>1.0</td>\n",
       "      <td>0.0</td>\n",
       "      <td>1.0</td>\n",
       "      <td>0.0</td>\n",
       "      <td>1.0</td>\n",
       "      <td>0.0</td>\n",
       "      <td>0.0</td>\n",
       "      <td>0.0</td>\n",
       "      <td>1.0</td>\n",
       "    </tr>\n",
       "  </tbody>\n",
       "</table>\n",
       "<p>5 rows × 24 columns</p>\n",
       "</div>"
      ],
      "text/plain": [
       "      Age at Diagnosis  Lymph nodes examined positive  Mutation Count  \\\n",
       "99            0.372881                       0.022222        0.075949   \n",
       "1534          0.346817                       0.000000        0.164557   \n",
       "909           0.696624                       0.022222        0.101266   \n",
       "1645          0.550776                       0.000000        0.063291   \n",
       "285           0.662869                       0.244444        0.012658   \n",
       "\n",
       "      Nottingham prognostic index  Relapse Free Status (Months)  Tumor Size  \\\n",
       "99                       0.567164                      0.393441    0.104972   \n",
       "1534                     0.378731                      0.066488    0.077348   \n",
       "909                      0.763060                      0.486893    0.243094   \n",
       "1645                     0.576866                      0.728218    0.248619   \n",
       "285                      0.949627                      0.192794    0.243094   \n",
       "\n",
       "      Cellularity_x0_0  Cellularity_x0_1  Cellularity_x0_2  Chemotherapy_x0_0  \\\n",
       "99                 0.0               1.0               0.0                0.0   \n",
       "1534               0.0               0.0               1.0                1.0   \n",
       "909                0.0               0.0               1.0                1.0   \n",
       "1645               0.0               0.0               1.0                1.0   \n",
       "285                0.0               1.0               0.0                0.0   \n",
       "\n",
       "      ...  HER2 Status_x0_1  Inferred Menopausal State_x0_0  \\\n",
       "99    ...               0.0                             0.0   \n",
       "1534  ...               0.0                             0.0   \n",
       "909   ...               0.0                             1.0   \n",
       "1645  ...               0.0                             1.0   \n",
       "285   ...               0.0                             1.0   \n",
       "\n",
       "      Inferred Menopausal State_x0_1  Primary Tumor Laterality_x0_0  \\\n",
       "99                               1.0                            0.0   \n",
       "1534                             1.0                            1.0   \n",
       "909                              0.0                            1.0   \n",
       "1645                             0.0                            0.0   \n",
       "285                              0.0                            1.0   \n",
       "\n",
       "      Primary Tumor Laterality_x0_1  PR Status_x0_0  PR Status_x0_1  \\\n",
       "99                              1.0             0.0             1.0   \n",
       "1534                            0.0             0.0             1.0   \n",
       "909                             0.0             0.0             1.0   \n",
       "1645                            1.0             1.0             0.0   \n",
       "285                             0.0             1.0             0.0   \n",
       "\n",
       "      Neoplasm Histologic Grade_x0_0  Neoplasm Histologic Grade_x0_1  \\\n",
       "99                               0.0                             1.0   \n",
       "1534                             0.0                             1.0   \n",
       "909                              0.0                             0.0   \n",
       "1645                             0.0                             0.0   \n",
       "285                              0.0                             0.0   \n",
       "\n",
       "      Neoplasm Histologic Grade_x0_2  \n",
       "99                               0.0  \n",
       "1534                             0.0  \n",
       "909                              1.0  \n",
       "1645                             1.0  \n",
       "285                              1.0  \n",
       "\n",
       "[5 rows x 24 columns]"
      ]
     },
     "execution_count": 34,
     "metadata": {},
     "output_type": "execute_result"
    }
   ],
   "source": [
    "x_train_dummy.head()"
   ]
  },
  {
   "cell_type": "code",
   "execution_count": 35,
   "metadata": {},
   "outputs": [],
   "source": [
    "'''\n",
    "\n",
    "Lime explainer\n",
    "\n",
    "'''\n",
    "# numer_preprocess = [([col], None) for col in numerical_columns]\n",
    "# leave_preprocess = [([col], [SimpleImputer(missing_values = np.nan, strategy = 'most_frequent')]) for col in leave_columns]\n",
    "# x_mapper_double_temp = DataFrameMapper(numer_preprocess+leave_preprocess, df_out = False)\n",
    "# x_train_double_temp = x_mapper_double_temp.fit_transform(X_train)\n",
    "# x_train_double_temp = inference_mapper.fit_transform(X_train)\n",
    "categorical_features = [6, 7, 8, 9, 10, 11, 12, 13]\n",
    "# categorical_names = {}\n",
    "# for feature in categorical_features:\n",
    "#     le = LabelEncoder()\n",
    "#     le.fit(x_train_double_temp[:, feature])\n",
    "#     x_train_double_temp[:, feature] = le.transform(x_train_double_temp[:, feature])\n",
    "#     categorical_names[feature] = le.classes_\n",
    "# categorical_names"
   ]
  },
  {
   "cell_type": "code",
   "execution_count": 36,
   "metadata": {},
   "outputs": [],
   "source": [
    "# predict_fn = lambda x : ref_estimator.predict(encoder_mapper.transform(x))\n",
    "def predict_fn(x):\n",
    "    df = pd.DataFrame(x, columns = numerical_columns+leave_columns)\n",
    "    return ref_estimator.predict(encoder_mapper.transform(df))"
   ]
  },
  {
   "cell_type": "code",
   "execution_count": 37,
   "metadata": {},
   "outputs": [
    {
     "name": "stdout",
     "output_type": "stream",
     "text": [
      "{6: array(['High', 'Low', 'Moderate'], dtype=object), 7: array(['NO', 'YES'], dtype=object), 8: array(['Negative', 'Positive'], dtype=object), 9: array(['Negative', 'Positive'], dtype=object), 10: array(['Post', 'Pre'], dtype=object), 11: array(['Left', 'Right'], dtype=object), 12: array(['Negative', 'Positive'], dtype=object), 13: array([1., 2., 3.])}\n"
     ]
    }
   ],
   "source": [
    "print(categorical_names)"
   ]
  },
  {
   "cell_type": "code",
   "execution_count": 38,
   "metadata": {},
   "outputs": [],
   "source": [
    "explainer = lime.lime_tabular.LimeTabularExplainer(X_train.to_numpy() ,feature_names = numerical_columns+leave_columns,\n",
    "                                                   categorical_features=categorical_features, \n",
    "                                                   categorical_names=categorical_names, kernel_width=3, mode='regression', feature_selection = 'none')"
   ]
  },
  {
   "cell_type": "code",
   "execution_count": 46,
   "metadata": {},
   "outputs": [
    {
     "name": "stdout",
     "output_type": "stream",
     "text": [
      "14\n"
     ]
    }
   ],
   "source": [
    "#Active Learning based sampling\n",
    "# x_test = X_test.to_numpy()\n",
    "# i = 5\n",
    "# samples, y, distances = explainer.generate_samples(x_test[i], predict_fn, 5000)"
   ]
  },
  {
   "cell_type": "code",
   "execution_count": null,
   "metadata": {},
   "outputs": [],
   "source": [
    "# y_test_final['Overall Survival Status'][i]"
   ]
  },
  {
   "cell_type": "code",
   "execution_count": 39,
   "metadata": {},
   "outputs": [
    {
     "data": {
      "text/html": [
       "<div>\n",
       "<style scoped>\n",
       "    .dataframe tbody tr th:only-of-type {\n",
       "        vertical-align: middle;\n",
       "    }\n",
       "\n",
       "    .dataframe tbody tr th {\n",
       "        vertical-align: top;\n",
       "    }\n",
       "\n",
       "    .dataframe thead th {\n",
       "        text-align: right;\n",
       "    }\n",
       "</style>\n",
       "<table border=\"1\" class=\"dataframe\">\n",
       "  <thead>\n",
       "    <tr style=\"text-align: right;\">\n",
       "      <th></th>\n",
       "      <th>Age at Diagnosis</th>\n",
       "      <th>Lymph nodes examined positive</th>\n",
       "      <th>Mutation Count</th>\n",
       "      <th>Nottingham prognostic index</th>\n",
       "      <th>Relapse Free Status (Months)</th>\n",
       "      <th>Tumor Size</th>\n",
       "      <th>Cellularity</th>\n",
       "      <th>Chemotherapy</th>\n",
       "      <th>ER Status</th>\n",
       "      <th>HER2 Status</th>\n",
       "      <th>Inferred Menopausal State</th>\n",
       "      <th>Primary Tumor Laterality</th>\n",
       "      <th>PR Status</th>\n",
       "      <th>Neoplasm Histologic Grade</th>\n",
       "    </tr>\n",
       "  </thead>\n",
       "  <tbody>\n",
       "    <tr>\n",
       "      <th>1510</th>\n",
       "      <td>57.75</td>\n",
       "      <td>0.0</td>\n",
       "      <td>5.0</td>\n",
       "      <td>2.052</td>\n",
       "      <td>226.81</td>\n",
       "      <td>26.0</td>\n",
       "      <td>2</td>\n",
       "      <td>0</td>\n",
       "      <td>1</td>\n",
       "      <td>0</td>\n",
       "      <td>0</td>\n",
       "      <td>1</td>\n",
       "      <td>1</td>\n",
       "      <td>0</td>\n",
       "    </tr>\n",
       "    <tr>\n",
       "      <th>601</th>\n",
       "      <td>60.48</td>\n",
       "      <td>0.0</td>\n",
       "      <td>6.0</td>\n",
       "      <td>3.028</td>\n",
       "      <td>265.46</td>\n",
       "      <td>14.0</td>\n",
       "      <td>2</td>\n",
       "      <td>0</td>\n",
       "      <td>1</td>\n",
       "      <td>0</td>\n",
       "      <td>0</td>\n",
       "      <td>0</td>\n",
       "      <td>0</td>\n",
       "      <td>1</td>\n",
       "    </tr>\n",
       "    <tr>\n",
       "      <th>117</th>\n",
       "      <td>75.18</td>\n",
       "      <td>21.0</td>\n",
       "      <td>2.0</td>\n",
       "      <td>6.056</td>\n",
       "      <td>92.43</td>\n",
       "      <td>28.0</td>\n",
       "      <td>0</td>\n",
       "      <td>0</td>\n",
       "      <td>1</td>\n",
       "      <td>0</td>\n",
       "      <td>0</td>\n",
       "      <td>1</td>\n",
       "      <td>0</td>\n",
       "      <td>2</td>\n",
       "    </tr>\n",
       "    <tr>\n",
       "      <th>1204</th>\n",
       "      <td>59.12</td>\n",
       "      <td>0.0</td>\n",
       "      <td>8.0</td>\n",
       "      <td>1.050</td>\n",
       "      <td>12.43</td>\n",
       "      <td>25.0</td>\n",
       "      <td>2</td>\n",
       "      <td>0</td>\n",
       "      <td>1</td>\n",
       "      <td>0</td>\n",
       "      <td>0</td>\n",
       "      <td>0</td>\n",
       "      <td>0</td>\n",
       "      <td>2</td>\n",
       "    </tr>\n",
       "    <tr>\n",
       "      <th>687</th>\n",
       "      <td>43.68</td>\n",
       "      <td>0.0</td>\n",
       "      <td>4.0</td>\n",
       "      <td>3.050</td>\n",
       "      <td>139.84</td>\n",
       "      <td>25.0</td>\n",
       "      <td>2</td>\n",
       "      <td>0</td>\n",
       "      <td>1</td>\n",
       "      <td>0</td>\n",
       "      <td>1</td>\n",
       "      <td>1</td>\n",
       "      <td>1</td>\n",
       "      <td>1</td>\n",
       "    </tr>\n",
       "  </tbody>\n",
       "</table>\n",
       "</div>"
      ],
      "text/plain": [
       "      Age at Diagnosis  Lymph nodes examined positive  Mutation Count  \\\n",
       "1510             57.75                            0.0             5.0   \n",
       "601              60.48                            0.0             6.0   \n",
       "117              75.18                           21.0             2.0   \n",
       "1204             59.12                            0.0             8.0   \n",
       "687              43.68                            0.0             4.0   \n",
       "\n",
       "      Nottingham prognostic index  Relapse Free Status (Months)  Tumor Size  \\\n",
       "1510                        2.052                        226.81        26.0   \n",
       "601                         3.028                        265.46        14.0   \n",
       "117                         6.056                         92.43        28.0   \n",
       "1204                        1.050                         12.43        25.0   \n",
       "687                         3.050                        139.84        25.0   \n",
       "\n",
       "      Cellularity  Chemotherapy  ER Status  HER2 Status  \\\n",
       "1510            2             0          1            0   \n",
       "601             2             0          1            0   \n",
       "117             0             0          1            0   \n",
       "1204            2             0          1            0   \n",
       "687             2             0          1            0   \n",
       "\n",
       "      Inferred Menopausal State  Primary Tumor Laterality  PR Status  \\\n",
       "1510                          0                         1          1   \n",
       "601                           0                         0          0   \n",
       "117                           0                         1          0   \n",
       "1204                          0                         0          0   \n",
       "687                           1                         1          1   \n",
       "\n",
       "      Neoplasm Histologic Grade  \n",
       "1510                          0  \n",
       "601                           1  \n",
       "117                           2  \n",
       "1204                          2  \n",
       "687                           1  "
      ]
     },
     "execution_count": 39,
     "metadata": {},
     "output_type": "execute_result"
    }
   ],
   "source": [
    "X_test.head()"
   ]
  },
  {
   "cell_type": "code",
   "execution_count": 53,
   "metadata": {
    "scrolled": false
   },
   "outputs": [],
   "source": [
    "import warnings\n",
    "import arviz as az\n",
    "import numpy as np\n",
    "import pymc3 as pm\n",
    "import scipy as sp\n",
    "import seaborn as sns\n",
    "from pymc3.distributions import Interpolated\n",
    "from matplotlib import pyplot as plt\n",
    "from matplotlib.ticker import StrMethodFormatter\n",
    "from statsmodels import datasets\n",
    "from theano import shared\n",
    "from theano import tensor as tt\n",
    "\n",
    "def softmax(x):\n",
    "    y = np.exp(x)\n",
    "    f_x = y / np.sum(np.exp(x))\n",
    "    return f_x\n",
    "\n",
    "def censored_distances(survival_status, event, distances):\n",
    "    cens_dist = np.abs(survival_status - event)\n",
    "    return np.sqrt(np.square(distances)+cens_dist)\n",
    "\n",
    "def gumbel_sf(y, μ, σ):\n",
    "    return 1.0 - tt.exp(-tt.exp(-(y - μ) / σ))\n",
    "\n",
    "def train_model(X, y_std, cens, distances):\n",
    "#     cens = event == 0\n",
    "    model = pm.Model()\n",
    "    cens_ = shared(cens)\n",
    "    with model:\n",
    "        distances_ = pm.Data(\"distances\", distances)\n",
    "        X_ = pm.Data(\"data\", X)\n",
    "#         cens_ = pm.Data(\"cens\", cens)\n",
    "        sigma_squared = pm.HalfNormal(\"sigma_squared\", 5)\n",
    "        beta = pm.Normal(\"beta\", 0.0, sigma_squared, shape = X.shape[1])\n",
    "        eta = beta.dot(X_.T)\n",
    "        y_obs = pm.Gumbel(\"y_obs\", eta[~cens_], sigma_squared/distances_[~cens_], observed=y_std[~cens])\n",
    "        y_cens = pm.Potential(\"y_cens\", gumbel_sf(y_std[cens], eta[cens_], sigma_squared/distances_[cens_]))\n",
    "    SEED = 845199  # from random.org, for reproducibility\n",
    "    SAMPLE_KWARGS = {\"chains\": 3, \"tune\": 1000, \"random_seed\": [SEED, SEED + 1, SEED + 2], \"target_accept\" : 0.9}\n",
    "    with model:\n",
    "        weibull_trace = pm.sample(**SAMPLE_KWARGS)\n",
    "    return model, weibull_trace, cens_\n",
    "\n",
    "def censored_focussed_sampling(explainer, point, i, y_train, y_test_final, S, N, A, batch_size, predict_fn):\n",
    "#     x_test = X_test.to_numpy()\n",
    "    samples, y_std, distances = explainer.generate_samples(point, predict_fn, S)\n",
    "    unique, counts = np.unique(y_train['Overall Survival Status'], return_counts=True)\n",
    "    p1 = counts[0]/sum(counts)\n",
    "    p2 = counts[1]/sum(counts)\n",
    "    event = np.random.choice([0, 1], size = S-1, p = [p1, p2])\n",
    "    X = np.empty((samples.shape[0], samples.shape[1]+1))\n",
    "    X[:, 0] = 1\n",
    "    for i in range(samples.shape[1]):\n",
    "        X[:, i+1] = samples[:, i]\n",
    "    X = X[1:, :]\n",
    "    y_std = y_std[1:]\n",
    "    distances = distances[1:]\n",
    "    distances = censored_distances(y_test_final['Overall Survival Status'][i], event, distances)\n",
    "    model, weibull_trace, cens_ = train_model(X, y_std, event==0, distances)\n",
    "    for _ in range(0, N-S, batch_size):\n",
    "        samples, y_std_sampled, distances_sampled = explainer.generate_samples(point, predict_fn, A)\n",
    "        X_sampled = np.empty((samples.shape[0], samples.shape[1]+1))\n",
    "        X_sampled[:, 0] = 1\n",
    "        for i in range(samples.shape[1]):\n",
    "            X_sampled[:, i+1] = samples[:, i]\n",
    "        X_sampled = X_sampled[1:, :]\n",
    "        y_std_sampled = y_std_sampled[1:]\n",
    "        rng = default_rng(random_state)\n",
    "        event_sampled = rng.choice([0, 1], size = A-1, p = [p1, p2])\n",
    "        distances_sampled = censored_distances(y_test_final['Overall Survival Status'][i], event_sampled, distances_sampled[1:])\n",
    "        rng_ = default_rng(random_state)\n",
    "        cens_pp = rng.choice([False, True], size = A-1, p = [1, 0])\n",
    "        cens_.set_value(cens_pp)\n",
    "        with model:\n",
    "            pm.set_data({\"data\" : X_sampled, \"distances\" : distances_sampled})\n",
    "            pp_weibull_trace = pm.sample_posterior_predictive(weibull_trace, samples=1500)\n",
    "        p_test_pred = np.square(pp_weibull_trace[\"y_obs\"].std(axis=0))\n",
    "        normalized_sd = softmax(p_test_pred)\n",
    "        rng__ = default_rng(random_state)\n",
    "        top_k = rng__.choice([i for i in range(p_test_pred.shape[0])], size = batch_size, p = normalized_sd, replace = False)\n",
    "        selected_X = X_sampled[top_k]\n",
    "        selected_dist = distances_sampled[top_k]\n",
    "        selected_event = event_sampled[top_k]\n",
    "#         cens_.set_value(selected_event == 0)\n",
    "        selected_y_std = y_std_sampled[top_k]\n",
    "        X = np.vstack([X, selected_X])\n",
    "        y_std = np.hstack([y_std, selected_y_std])\n",
    "        distances = np.hstack([distances, selected_dist])\n",
    "        event = np.hstack([event, selected_event])\n",
    "        model, weibull_trace, cens_ = train_model(X, y_std, event==0, distances)\n",
    "    df = az.summary(weibull_trace)\n",
    "    return df['mean'].to_numpy()\n"
   ]
  },
  {
   "cell_type": "code",
   "execution_count": 56,
   "metadata": {},
   "outputs": [
    {
     "name": "stdout",
     "output_type": "stream",
     "text": [
      "Num of Samples : 70\n",
      "Kendall Iteration : 0\n"
     ]
    },
    {
     "name": "stderr",
     "output_type": "stream",
     "text": [
      "/Library/Frameworks/Python.framework/Versions/3.6/lib/python3.6/site-packages/pymc3/sampling.py:468: FutureWarning: In an upcoming release, pm.sample will return an `arviz.InferenceData` object instead of a `MultiTrace` by default. You can pass return_inferencedata=True or return_inferencedata=False to be safe and silence this warning.\n",
      "  FutureWarning,\n",
      "Auto-assigning NUTS sampler...\n",
      "Initializing NUTS using jitter+adapt_diag...\n",
      "Multiprocess sampling (3 chains in 4 jobs)\n",
      "NUTS: [beta, sigma_squared]\n"
     ]
    },
    {
     "data": {
      "text/html": [
       "\n",
       "    <div>\n",
       "        <style>\n",
       "            /* Turns off some styling */\n",
       "            progress {\n",
       "                /* gets rid of default border in Firefox and Opera. */\n",
       "                border: none;\n",
       "                /* Needs to be in here for Safari polyfill so background images work as expected. */\n",
       "                background-size: auto;\n",
       "            }\n",
       "            .progress-bar-interrupted, .progress-bar-interrupted::-webkit-progress-bar {\n",
       "                background: #F44336;\n",
       "            }\n",
       "        </style>\n",
       "      <progress value='6000' class='' max='6000' style='width:300px; height:20px; vertical-align: middle;'></progress>\n",
       "      100.00% [6000/6000 00:20<00:00 Sampling 3 chains, 11 divergences]\n",
       "    </div>\n",
       "    "
      ],
      "text/plain": [
       "<IPython.core.display.HTML object>"
      ]
     },
     "metadata": {},
     "output_type": "display_data"
    },
    {
     "name": "stderr",
     "output_type": "stream",
     "text": [
      "Sampling 3 chains for 1_000 tune and 1_000 draw iterations (3_000 + 3_000 draws total) took 29 seconds.\n",
      "There were 7 divergences after tuning. Increase `target_accept` or reparameterize.\n",
      "There were 4 divergences after tuning. Increase `target_accept` or reparameterize.\n",
      "/Library/Frameworks/Python.framework/Versions/3.6/lib/python3.6/site-packages/pymc3/sampling.py:1691: UserWarning: samples parameter is smaller than nchains times ndraws, some draws and/or chains may not be represented in the returned posterior predictive sample\n",
      "  \"samples parameter is smaller than nchains times ndraws, some draws \"\n"
     ]
    },
    {
     "data": {
      "text/html": [
       "\n",
       "    <div>\n",
       "        <style>\n",
       "            /* Turns off some styling */\n",
       "            progress {\n",
       "                /* gets rid of default border in Firefox and Opera. */\n",
       "                border: none;\n",
       "                /* Needs to be in here for Safari polyfill so background images work as expected. */\n",
       "                background-size: auto;\n",
       "            }\n",
       "            .progress-bar-interrupted, .progress-bar-interrupted::-webkit-progress-bar {\n",
       "                background: #F44336;\n",
       "            }\n",
       "        </style>\n",
       "      <progress value='1500' class='' max='1500' style='width:300px; height:20px; vertical-align: middle;'></progress>\n",
       "      100.00% [1500/1500 00:03<00:00]\n",
       "    </div>\n",
       "    "
      ],
      "text/plain": [
       "<IPython.core.display.HTML object>"
      ]
     },
     "metadata": {},
     "output_type": "display_data"
    },
    {
     "name": "stderr",
     "output_type": "stream",
     "text": [
      "/Library/Frameworks/Python.framework/Versions/3.6/lib/python3.6/site-packages/pymc3/sampling.py:468: FutureWarning: In an upcoming release, pm.sample will return an `arviz.InferenceData` object instead of a `MultiTrace` by default. You can pass return_inferencedata=True or return_inferencedata=False to be safe and silence this warning.\n",
      "  FutureWarning,\n",
      "Auto-assigning NUTS sampler...\n",
      "Initializing NUTS using jitter+adapt_diag...\n",
      "Multiprocess sampling (3 chains in 4 jobs)\n",
      "NUTS: [beta, sigma_squared]\n"
     ]
    },
    {
     "data": {
      "text/html": [
       "\n",
       "    <div>\n",
       "        <style>\n",
       "            /* Turns off some styling */\n",
       "            progress {\n",
       "                /* gets rid of default border in Firefox and Opera. */\n",
       "                border: none;\n",
       "                /* Needs to be in here for Safari polyfill so background images work as expected. */\n",
       "                background-size: auto;\n",
       "            }\n",
       "            .progress-bar-interrupted, .progress-bar-interrupted::-webkit-progress-bar {\n",
       "                background: #F44336;\n",
       "            }\n",
       "        </style>\n",
       "      <progress value='6000' class='' max='6000' style='width:300px; height:20px; vertical-align: middle;'></progress>\n",
       "      100.00% [6000/6000 00:22<00:00 Sampling 3 chains, 0 divergences]\n",
       "    </div>\n",
       "    "
      ],
      "text/plain": [
       "<IPython.core.display.HTML object>"
      ]
     },
     "metadata": {},
     "output_type": "display_data"
    },
    {
     "name": "stderr",
     "output_type": "stream",
     "text": [
      "Sampling 3 chains for 1_000 tune and 1_000 draw iterations (3_000 + 3_000 draws total) took 33 seconds.\n",
      "/Library/Frameworks/Python.framework/Versions/3.6/lib/python3.6/site-packages/pymc3/sampling.py:1691: UserWarning: samples parameter is smaller than nchains times ndraws, some draws and/or chains may not be represented in the returned posterior predictive sample\n",
      "  \"samples parameter is smaller than nchains times ndraws, some draws \"\n"
     ]
    },
    {
     "data": {
      "text/html": [
       "\n",
       "    <div>\n",
       "        <style>\n",
       "            /* Turns off some styling */\n",
       "            progress {\n",
       "                /* gets rid of default border in Firefox and Opera. */\n",
       "                border: none;\n",
       "                /* Needs to be in here for Safari polyfill so background images work as expected. */\n",
       "                background-size: auto;\n",
       "            }\n",
       "            .progress-bar-interrupted, .progress-bar-interrupted::-webkit-progress-bar {\n",
       "                background: #F44336;\n",
       "            }\n",
       "        </style>\n",
       "      <progress value='1500' class='' max='1500' style='width:300px; height:20px; vertical-align: middle;'></progress>\n",
       "      100.00% [1500/1500 00:03<00:00]\n",
       "    </div>\n",
       "    "
      ],
      "text/plain": [
       "<IPython.core.display.HTML object>"
      ]
     },
     "metadata": {},
     "output_type": "display_data"
    },
    {
     "name": "stderr",
     "output_type": "stream",
     "text": [
      "/Library/Frameworks/Python.framework/Versions/3.6/lib/python3.6/site-packages/pymc3/sampling.py:468: FutureWarning: In an upcoming release, pm.sample will return an `arviz.InferenceData` object instead of a `MultiTrace` by default. You can pass return_inferencedata=True or return_inferencedata=False to be safe and silence this warning.\n",
      "  FutureWarning,\n",
      "Auto-assigning NUTS sampler...\n",
      "Initializing NUTS using jitter+adapt_diag...\n",
      "Multiprocess sampling (3 chains in 4 jobs)\n",
      "NUTS: [beta, sigma_squared]\n"
     ]
    },
    {
     "data": {
      "text/html": [
       "\n",
       "    <div>\n",
       "        <style>\n",
       "            /* Turns off some styling */\n",
       "            progress {\n",
       "                /* gets rid of default border in Firefox and Opera. */\n",
       "                border: none;\n",
       "                /* Needs to be in here for Safari polyfill so background images work as expected. */\n",
       "                background-size: auto;\n",
       "            }\n",
       "            .progress-bar-interrupted, .progress-bar-interrupted::-webkit-progress-bar {\n",
       "                background: #F44336;\n",
       "            }\n",
       "        </style>\n",
       "      <progress value='6000' class='' max='6000' style='width:300px; height:20px; vertical-align: middle;'></progress>\n",
       "      100.00% [6000/6000 00:20<00:00 Sampling 3 chains, 4 divergences]\n",
       "    </div>\n",
       "    "
      ],
      "text/plain": [
       "<IPython.core.display.HTML object>"
      ]
     },
     "metadata": {},
     "output_type": "display_data"
    },
    {
     "name": "stderr",
     "output_type": "stream",
     "text": [
      "Sampling 3 chains for 1_000 tune and 1_000 draw iterations (3_000 + 3_000 draws total) took 29 seconds.\n",
      "There were 3 divergences after tuning. Increase `target_accept` or reparameterize.\n",
      "There was 1 divergence after tuning. Increase `target_accept` or reparameterize.\n",
      "/Library/Frameworks/Python.framework/Versions/3.6/lib/python3.6/site-packages/arviz/data/io_pymc3.py:91: FutureWarning: Using `from_pymc3` without the model will be deprecated in a future release. Not using the model will return less accurate and less useful results. Make sure you use the model argument or call from_pymc3 within a model context.\n",
      "  FutureWarning,\n"
     ]
    },
    {
     "name": "stdout",
     "output_type": "stream",
     "text": [
      "[ 0.577  0.437  0.229  0.879 -1.464  0.082 -0.466 -0.123 -0.402  1.573\n",
      "  0.971 -0.134  0.332  0.558  1.594]\n",
      "Kendall Iteration : 1\n"
     ]
    },
    {
     "name": "stderr",
     "output_type": "stream",
     "text": [
      "/Library/Frameworks/Python.framework/Versions/3.6/lib/python3.6/site-packages/pymc3/sampling.py:468: FutureWarning: In an upcoming release, pm.sample will return an `arviz.InferenceData` object instead of a `MultiTrace` by default. You can pass return_inferencedata=True or return_inferencedata=False to be safe and silence this warning.\n",
      "  FutureWarning,\n",
      "Auto-assigning NUTS sampler...\n",
      "Initializing NUTS using jitter+adapt_diag...\n",
      "Multiprocess sampling (3 chains in 4 jobs)\n",
      "NUTS: [beta, sigma_squared]\n"
     ]
    },
    {
     "data": {
      "text/html": [
       "\n",
       "    <div>\n",
       "        <style>\n",
       "            /* Turns off some styling */\n",
       "            progress {\n",
       "                /* gets rid of default border in Firefox and Opera. */\n",
       "                border: none;\n",
       "                /* Needs to be in here for Safari polyfill so background images work as expected. */\n",
       "                background-size: auto;\n",
       "            }\n",
       "            .progress-bar-interrupted, .progress-bar-interrupted::-webkit-progress-bar {\n",
       "                background: #F44336;\n",
       "            }\n",
       "        </style>\n",
       "      <progress value='6000' class='' max='6000' style='width:300px; height:20px; vertical-align: middle;'></progress>\n",
       "      100.00% [6000/6000 00:18<00:00 Sampling 3 chains, 0 divergences]\n",
       "    </div>\n",
       "    "
      ],
      "text/plain": [
       "<IPython.core.display.HTML object>"
      ]
     },
     "metadata": {},
     "output_type": "display_data"
    },
    {
     "name": "stderr",
     "output_type": "stream",
     "text": [
      "Sampling 3 chains for 1_000 tune and 1_000 draw iterations (3_000 + 3_000 draws total) took 28 seconds.\n",
      "/Library/Frameworks/Python.framework/Versions/3.6/lib/python3.6/site-packages/pymc3/sampling.py:1691: UserWarning: samples parameter is smaller than nchains times ndraws, some draws and/or chains may not be represented in the returned posterior predictive sample\n",
      "  \"samples parameter is smaller than nchains times ndraws, some draws \"\n"
     ]
    },
    {
     "data": {
      "text/html": [
       "\n",
       "    <div>\n",
       "        <style>\n",
       "            /* Turns off some styling */\n",
       "            progress {\n",
       "                /* gets rid of default border in Firefox and Opera. */\n",
       "                border: none;\n",
       "                /* Needs to be in here for Safari polyfill so background images work as expected. */\n",
       "                background-size: auto;\n",
       "            }\n",
       "            .progress-bar-interrupted, .progress-bar-interrupted::-webkit-progress-bar {\n",
       "                background: #F44336;\n",
       "            }\n",
       "        </style>\n",
       "      <progress value='1500' class='' max='1500' style='width:300px; height:20px; vertical-align: middle;'></progress>\n",
       "      100.00% [1500/1500 00:03<00:00]\n",
       "    </div>\n",
       "    "
      ],
      "text/plain": [
       "<IPython.core.display.HTML object>"
      ]
     },
     "metadata": {},
     "output_type": "display_data"
    },
    {
     "name": "stderr",
     "output_type": "stream",
     "text": [
      "/Library/Frameworks/Python.framework/Versions/3.6/lib/python3.6/site-packages/pymc3/sampling.py:468: FutureWarning: In an upcoming release, pm.sample will return an `arviz.InferenceData` object instead of a `MultiTrace` by default. You can pass return_inferencedata=True or return_inferencedata=False to be safe and silence this warning.\n",
      "  FutureWarning,\n",
      "Auto-assigning NUTS sampler...\n",
      "Initializing NUTS using jitter+adapt_diag...\n",
      "Multiprocess sampling (3 chains in 4 jobs)\n",
      "NUTS: [beta, sigma_squared]\n"
     ]
    },
    {
     "data": {
      "text/html": [
       "\n",
       "    <div>\n",
       "        <style>\n",
       "            /* Turns off some styling */\n",
       "            progress {\n",
       "                /* gets rid of default border in Firefox and Opera. */\n",
       "                border: none;\n",
       "                /* Needs to be in here for Safari polyfill so background images work as expected. */\n",
       "                background-size: auto;\n",
       "            }\n",
       "            .progress-bar-interrupted, .progress-bar-interrupted::-webkit-progress-bar {\n",
       "                background: #F44336;\n",
       "            }\n",
       "        </style>\n",
       "      <progress value='6000' class='' max='6000' style='width:300px; height:20px; vertical-align: middle;'></progress>\n",
       "      100.00% [6000/6000 00:20<00:00 Sampling 3 chains, 3 divergences]\n",
       "    </div>\n",
       "    "
      ],
      "text/plain": [
       "<IPython.core.display.HTML object>"
      ]
     },
     "metadata": {},
     "output_type": "display_data"
    },
    {
     "name": "stderr",
     "output_type": "stream",
     "text": [
      "Sampling 3 chains for 1_000 tune and 1_000 draw iterations (3_000 + 3_000 draws total) took 31 seconds.\n",
      "There were 3 divergences after tuning. Increase `target_accept` or reparameterize.\n",
      "/Library/Frameworks/Python.framework/Versions/3.6/lib/python3.6/site-packages/pymc3/sampling.py:1691: UserWarning: samples parameter is smaller than nchains times ndraws, some draws and/or chains may not be represented in the returned posterior predictive sample\n",
      "  \"samples parameter is smaller than nchains times ndraws, some draws \"\n"
     ]
    },
    {
     "data": {
      "text/html": [
       "\n",
       "    <div>\n",
       "        <style>\n",
       "            /* Turns off some styling */\n",
       "            progress {\n",
       "                /* gets rid of default border in Firefox and Opera. */\n",
       "                border: none;\n",
       "                /* Needs to be in here for Safari polyfill so background images work as expected. */\n",
       "                background-size: auto;\n",
       "            }\n",
       "            .progress-bar-interrupted, .progress-bar-interrupted::-webkit-progress-bar {\n",
       "                background: #F44336;\n",
       "            }\n",
       "        </style>\n",
       "      <progress value='1500' class='' max='1500' style='width:300px; height:20px; vertical-align: middle;'></progress>\n",
       "      100.00% [1500/1500 00:03<00:00]\n",
       "    </div>\n",
       "    "
      ],
      "text/plain": [
       "<IPython.core.display.HTML object>"
      ]
     },
     "metadata": {},
     "output_type": "display_data"
    },
    {
     "name": "stderr",
     "output_type": "stream",
     "text": [
      "/Library/Frameworks/Python.framework/Versions/3.6/lib/python3.6/site-packages/pymc3/sampling.py:468: FutureWarning: In an upcoming release, pm.sample will return an `arviz.InferenceData` object instead of a `MultiTrace` by default. You can pass return_inferencedata=True or return_inferencedata=False to be safe and silence this warning.\n",
      "  FutureWarning,\n",
      "Auto-assigning NUTS sampler...\n",
      "Initializing NUTS using jitter+adapt_diag...\n",
      "Multiprocess sampling (3 chains in 4 jobs)\n",
      "NUTS: [beta, sigma_squared]\n"
     ]
    },
    {
     "data": {
      "text/html": [
       "\n",
       "    <div>\n",
       "        <style>\n",
       "            /* Turns off some styling */\n",
       "            progress {\n",
       "                /* gets rid of default border in Firefox and Opera. */\n",
       "                border: none;\n",
       "                /* Needs to be in here for Safari polyfill so background images work as expected. */\n",
       "                background-size: auto;\n",
       "            }\n",
       "            .progress-bar-interrupted, .progress-bar-interrupted::-webkit-progress-bar {\n",
       "                background: #F44336;\n",
       "            }\n",
       "        </style>\n",
       "      <progress value='6000' class='' max='6000' style='width:300px; height:20px; vertical-align: middle;'></progress>\n",
       "      100.00% [6000/6000 00:16<00:00 Sampling 3 chains, 0 divergences]\n",
       "    </div>\n",
       "    "
      ],
      "text/plain": [
       "<IPython.core.display.HTML object>"
      ]
     },
     "metadata": {},
     "output_type": "display_data"
    },
    {
     "name": "stderr",
     "output_type": "stream",
     "text": [
      "Sampling 3 chains for 1_000 tune and 1_000 draw iterations (3_000 + 3_000 draws total) took 28 seconds.\n",
      "/Library/Frameworks/Python.framework/Versions/3.6/lib/python3.6/site-packages/arviz/data/io_pymc3.py:91: FutureWarning: Using `from_pymc3` without the model will be deprecated in a future release. Not using the model will return less accurate and less useful results. Make sure you use the model argument or call from_pymc3 within a model context.\n",
      "  FutureWarning,\n"
     ]
    },
    {
     "name": "stdout",
     "output_type": "stream",
     "text": [
      "[ 0.337  0.036  0.44  -0.465 -1.386 -0.146  0.044  0.31   0.504 -0.091\n",
      "  0.295  0.031 -0.275 -0.109  1.473]\n",
      "[[5, 5], [8, 13], [11, 4], [4, 3], [2, 1], [14, 9], [7, 12], [13, 6], [9, 2], [1, 11], [3, 7], [12, 14], [10, 8], [6, 10], [0, 0]]\n",
      "0.0\n",
      "--- 220.91158390045166 seconds ---\n"
     ]
    }
   ],
   "source": [
    "# censored_focussed_sampling(explainer, X_test, 3, y_train, y_test_final, 100, 5000, 1000, 50, predict_fn)\n",
    "\n",
    "import time\n",
    "\n",
    "def kendall_w(expt_ratings):\n",
    "    if expt_ratings.ndim!=2:\n",
    "        raise 'ratings matrix must be 2-dimensional'\n",
    "    m = expt_ratings.shape[0] #raters\n",
    "    n = expt_ratings.shape[1] # items rated\n",
    "    denom = m**2*(n**3-n)\n",
    "    rating_sums = np.sum(expt_ratings, axis=0)\n",
    "    S = n*np.var(rating_sums)\n",
    "    return 12*S/denom\n",
    "\n",
    "'''\n",
    "Kendall's W\n",
    "'''\n",
    "\n",
    "S = 50\n",
    "A = 100\n",
    "batch_size = 10\n",
    "index = 3\n",
    "k = 20\n",
    "val = []\n",
    "\n",
    "start_time = time.time()\n",
    "for N in [70, 80, 90, 100]:\n",
    "    print(\"Num of Samples : \"+str(N))\n",
    "    rankings = {}\n",
    "    point = X_test.to_numpy()[index]\n",
    "    for j in range(0, k):\n",
    "        print(\"Kendall Iteration : \"+str(j))\n",
    "#         importance_score_bias = censored_focussed_sampling(explainer, X_test, i, y_train, y_test_final, N//5, N, N*4, batch_size, predict_fn)\n",
    "        importance_score_bias = censored_focussed_sampling(explainer, point, index, y_train, y_test_final, S, N, A, batch_size, predict_fn)\n",
    "        importance_score = importance_score_bias[1:]\n",
    "        print(np.abs(importance_score))\n",
    "        indices_sort = np.argsort(-np.abs(importance_score)).argsort()\n",
    "        for j1 in range(len(indices_sort)):\n",
    "            if j1 not in rankings:\n",
    "                rankings[j1] = [indices_sort[j1]]\n",
    "            else:\n",
    "                rankings[j1].append(indices_sort[j1])\n",
    "    final_list = []\n",
    "#     print(rankings)\n",
    "    for key in rankings:\n",
    "        final_list.append(rankings[key])\n",
    "    value = kendall_w(np.array(final_list))\n",
    "    print(final_list)\n",
    "    print(value)\n",
    "    val.append(value)\n",
    "print(\"--- %s seconds ---\" % (time.time() - start_time))\n",
    "\n",
    "# '''\n",
    "# max senstivity\n",
    "# '''\n",
    "\n",
    "# def max_sensitivity(radius, num_points, index, X_test):\n",
    "#     for i in range(num_points):\n",
    "#         max_diff = -math.inf\n",
    "#         point = X_test.to_numpy()[index]\n",
    "# #         expl = censored_focussed_sampling(explainer, point, index, y_train, y_test_final, S, N, A, batch_size, predict_fn)\n",
    "# #         norm = np.linalg.norm(expl)\n",
    "#         for _ in range(num_points):\n",
    "#             noise = np.random.uniform(-1 * radius, radius, point.shape[0])\n",
    "#             point_ = point+noise\n",
    "# #             print(point_.shape)\n",
    "#             expl_ = censored_focussed_sampling(explainer, point_, index, y_train, y_test_final, S, N, A, batch_size, predict_fn)\n",
    "#             max_diff = max(max_diff, np.linalg.norm(expl-expl_))/norm\n",
    "#     return max_diff\n",
    "            \n",
    "\n",
    "# metric = max_sensitivity(0.2, 10, 3, X_test)\n",
    "\n",
    "# '''\n",
    "# Shap Values Baseline - global\n",
    "# kernel shap - local \n",
    "# insertion deletion\n",
    "# '''\n"
   ]
  },
  {
   "cell_type": "code",
   "execution_count": null,
   "metadata": {},
   "outputs": [],
   "source": [
    "az.summary(trace)"
   ]
  },
  {
   "cell_type": "code",
   "execution_count": null,
   "metadata": {},
   "outputs": [],
   "source": [
    "az.summary(trace_)"
   ]
  },
  {
   "cell_type": "code",
   "execution_count": null,
   "metadata": {},
   "outputs": [],
   "source": [
    "values = model[\"data\"].get_value()"
   ]
  },
  {
   "cell_type": "code",
   "execution_count": null,
   "metadata": {},
   "outputs": [],
   "source": [
    "values_ = model_[\"data\"].get_value()\n",
    "comparison = values == values_\n",
    "print(comparison.all())"
   ]
  },
  {
   "cell_type": "code",
   "execution_count": null,
   "metadata": {},
   "outputs": [],
   "source": [
    "unique, counts = np.unique(y_train['Overall Survival Status'], return_counts=True)\n",
    "p1 = counts[0]/sum(counts)\n",
    "p2 = counts[1]/sum(counts)"
   ]
  },
  {
   "cell_type": "code",
   "execution_count": null,
   "metadata": {},
   "outputs": [],
   "source": [
    "# x_double_test = X_test.to_numpy()\n",
    "x_test = X_test.to_numpy()\n",
    "i = 5\n",
    "event = np.random.choice([False, True], size = 5000, p = [p1, p2])\n",
    "event_distances = np.abs(event*1 - np.array(y_test_final['Overall Survival Status'][i])*1)\n",
    "exp = explainer.explain_instance(x_test[i], predict_fn, event_distances, num_features=5)\n",
    "exp.show_in_notebook(show_all=False)"
   ]
  },
  {
   "cell_type": "code",
   "execution_count": null,
   "metadata": {},
   "outputs": [],
   "source": [
    "exp.local_exp[0]"
   ]
  },
  {
   "cell_type": "code",
   "execution_count": null,
   "metadata": {},
   "outputs": [],
   "source": [
    "explainer = lime.lime_tabular.LimeTabularExplainer(X_train.to_numpy() ,feature_names = numerical_columns+leave_columns,\n",
    "                                                   categorical_features=categorical_features, \n",
    "                                                   categorical_names=categorical_names, kernel_width=3, mode='regression', feature_selection = 'none')\n",
    "x_test = X_test.to_numpy()\n",
    "i = 5\n",
    "event = np.random.choice([False, True], size = 5000, p = [p1, p2])\n",
    "event_distances = 0\n",
    "exp = explainer.explain_instance(x_test[i], predict_fn, event_distances, num_features=5)\n",
    "exp.show_in_notebook(show_all=False)"
   ]
  },
  {
   "cell_type": "code",
   "execution_count": null,
   "metadata": {},
   "outputs": [],
   "source": [
    "exp.local_exp[0]"
   ]
  },
  {
   "cell_type": "code",
   "execution_count": null,
   "metadata": {},
   "outputs": [],
   "source": [
    "from lifelines import WeibullAFTFitter, LogNormalAFTFitter, LogLogisticAFTFitter"
   ]
  },
  {
   "cell_type": "code",
   "execution_count": null,
   "metadata": {},
   "outputs": [],
   "source": [
    "class aft_model:\n",
    "    def __init__(self, p1, p2, event, penalizer = 0.01, aft_fitter = 'weibull', num_samples = 5000, fit_intercept = True, ancillary=False):\n",
    "        self.model = WeibullAFTFitter(fit_intercept, penalizer = penalizer)\n",
    "        if aft_fitter == 'lognormal':\n",
    "            self.model = LogNormalAFTFitter(fit_intercept)\n",
    "        elif aft_fitter == 'loglogistic':\n",
    "            self.model = LogLogisticAFTFitter(fit_intercept)\n",
    "        self.num_samples = num_samples\n",
    "        self.coef_ = None\n",
    "        self.intercept_ = None\n",
    "        self.p1 = p1\n",
    "        self.p2 = p2\n",
    "        self.ancillary = ancillary\n",
    "        self.event = event\n",
    "        \n",
    "    def generate_event(self):\n",
    "        return np.random.choice([False, True], size = self.num_samples, p = [self.p1, self.p2])\n",
    "        \n",
    "    def fit(self, X, y, sample_weight):\n",
    "        \n",
    "        \n",
    "#         sample_weight = np.sqrt(sample_weight)\n",
    "#         event = generate_event()\n",
    "#         print(event.shape)\n",
    "#         print(self.real_event)\n",
    "#         print(self.real_event.shape)\n",
    "#         sample_weight = np.sqrt(np.exp(-(np.log(sample_weight) + np.abs(event*1 - self.real_event*1))))\n",
    "        X = np.multiply(X, sample_weight[:, np.newaxis])\n",
    "        y = y*sample_weight\n",
    "        df = pd.DataFrame(X)\n",
    "        df[str(X.shape[1])] = self.event\n",
    "        df[str(X.shape[1]+1)] = y\n",
    "        self.model.fit(df, str(X.shape[1]+1), str(X.shape[1]), ancillary = self.ancillary)\n",
    "        params_ = self.model.params_['lambda_']\n",
    "        self.intercept_ = params_['Intercept']\n",
    "        self.coef_ = params_.drop('Intercept', inplace=False)\n",
    "        \n",
    "    def score(self, X, y, sample_weight):\n",
    "        return self.model.concordance_index_\n",
    "    \n",
    "    def predict(self, X):\n",
    "        return 20\n",
    "    \n",
    "    def print_here(self):\n",
    "        print(\"Here I am!!\")"
   ]
  },
  {
   "cell_type": "code",
   "execution_count": null,
   "metadata": {},
   "outputs": [],
   "source": [
    "i = 5"
   ]
  },
  {
   "cell_type": "code",
   "execution_count": null,
   "metadata": {},
   "outputs": [],
   "source": [
    "event = np.random.choice([False, True], size = 100, p = [p1, p2])\n",
    "event_distances = np.abs(event*1 - np.array(y_test_final['Overall Survival Status'][i])*1)"
   ]
  },
  {
   "cell_type": "code",
   "execution_count": null,
   "metadata": {},
   "outputs": [],
   "source": [
    "regressor = aft_model(p1 = p1, p2 = p2, event = event)"
   ]
  },
  {
   "cell_type": "code",
   "execution_count": null,
   "metadata": {},
   "outputs": [],
   "source": [
    "explainer_1 = lime.lime_tabular.LimeTabularExplainer(X_train.to_numpy() ,feature_names = numerical_columns+leave_columns,\n",
    "                                                   categorical_features=categorical_features, \n",
    "                                                   categorical_names=categorical_names, kernel_width=3, mode='regression', feature_selection = 'none')"
   ]
  },
  {
   "cell_type": "code",
   "execution_count": null,
   "metadata": {},
   "outputs": [],
   "source": [
    "exp = explainer_1.explain_instance(x_test[i], predict_fn, event_distances, num_features=5, model_regressor = regressor, num_samples = 100)\n",
    "exp.show_in_notebook(show_all=False)"
   ]
  },
  {
   "cell_type": "code",
   "execution_count": null,
   "metadata": {},
   "outputs": [],
   "source": [
    "import warnings\n",
    "\n",
    "import arviz as az\n",
    "import numpy as np\n",
    "import pymc3 as pm\n",
    "import scipy as sp\n",
    "import seaborn as sns\n",
    "\n",
    "from matplotlib import pyplot as plt\n",
    "from matplotlib.ticker import StrMethodFormatter\n",
    "from statsmodels import datasets\n",
    "from theano import shared\n",
    "from theano import tensor as tt"
   ]
  },
  {
   "cell_type": "code",
   "execution_count": null,
   "metadata": {},
   "outputs": [],
   "source": [
    "class bayesian_aft_model:\n",
    "    def __init__(self, p1, p2, event, prior_mean = 0):\n",
    "        self.p1 = p1\n",
    "        self.p2 = p2\n",
    "        self.event = event\n",
    "        self.prior_mean = prior_mean\n",
    "        \n",
    "    def generate_event(self):\n",
    "        return np.random.choice([False, True], size = self.num_samples, p = [self.p1, self.p2])\n",
    "    \n",
    "    def gumbel_sf(self, y, mu, sigma):\n",
    "        return 1.0 - tt.exp(-tt.exp(-(y - mu) / sigma))\n",
    "        \n",
    "    def fit(self, X, y, sample_weight):\n",
    "        \n",
    "        \n",
    "#         sample_weight = np.sqrt(sample_weight)\n",
    "#         event = generate_event()\n",
    "#         print(event.shape)\n",
    "#         print(self.real_event)\n",
    "#         print(self.real_event.shape)\n",
    "#         sample_weight = np.sqrt(np.exp(-(np.log(sample_weight) + np.abs(event*1 - self.real_event*1))))\n",
    "        X = np.multiply(X, sample_weight[:, np.newaxis])\n",
    "        y = y*sample_weight\n",
    "#         df = pd.DataFrame(X)\n",
    "        VAGUE_PRIOR_SD = 5.0\n",
    "        with pm.Model() as weibull_model:\n",
    "            beta = pm.Normal(\"beta\", self.prior_mean, VAGUE_PRIOR_SD, shape=X.shape[1])\n",
    "        X_ = shared(X)\n",
    "        with weibull_model:\n",
    "            eta = beta.dot(X_.T)\n",
    "        with weibull_model:\n",
    "            s = pm.HalfNormal(\"s\", 5.0)\n",
    "        cens = event == 0\n",
    "        cens_ = shared(cens)\n",
    "        with weibull_model:\n",
    "            y_obs = pm.Gumbel(\"y_obs\", eta[~cens_], s, observed=y[~cens])\n",
    "        \n",
    "        with weibull_model:\n",
    "            y_cens = pm.Potential(\"y_cens\", self.gumbel_sf(y[cens], eta[cens_], s))\n",
    "            \n",
    "        SEED = 31415  # from random.org, for reproducibility\n",
    "\n",
    "        SAMPLE_KWARGS = {\"chains\": 3, \"tune\": 1000, \"random_seed\": [SEED, SEED + 1, SEED + 2]}\n",
    "        with weibull_model:\n",
    "            weibull_trace = pm.sample(**SAMPLE_KWARGS)\n",
    "        self.intercept_ = 0\n",
    "        self.coef_ = az.summary(weibull_trace)['mean'][:-1].to_numpy()\n",
    "        self.trace = weibull_trace\n",
    "#         self.coef_ = \n",
    "#         y = y_train_log_t['Overall Survival (Months)']\n",
    "#         y_std = (y - y.mean()) / y.std()\n",
    "#         df[str(X.shape[1])] = self.event\n",
    "#         df[str(X.shape[1]+1)] = y\n",
    "#         self.model.fit(df, str(X.shape[1]+1), str(X.shape[1]), ancillary = self.ancillary)\n",
    "#         params_ = self.model.params_['lambda_']\n",
    "#         self.intercept_ = params_['Intercept']\n",
    "#         self.coef_ = params_.drop('Intercept', inplace=False)\n",
    "        \n",
    "    def score(self, X, y, sample_weight):\n",
    "        return 9\n",
    "    \n",
    "    def predict(self, X):\n",
    "        return 20\n",
    "    \n",
    "    def print_here(self):\n",
    "        print(\"Here I am!!\")"
   ]
  },
  {
   "cell_type": "code",
   "execution_count": null,
   "metadata": {},
   "outputs": [],
   "source": [
    "event = np.random.choice([False, True], size = 100, p = [p1, p2])\n",
    "event_distances = np.abs(event*1 - np.array(y_test_final['Overall Survival Status'][i])*1)\n",
    "regressor = bayesian_aft_model(p1 = p1, p2 = p2, event = event)\n",
    "explainer = lime.lime_tabular.LimeTabularExplainer(X_train.to_numpy() ,feature_names = numerical_columns+leave_columns,\n",
    "                                                   categorical_features=categorical_features, \n",
    "                                                   categorical_names=categorical_names, kernel_width=3, mode='regression', feature_selection = 'none')\n",
    "x_test = X_test.to_numpy()\n",
    "i = 5\n",
    "exp = explainer.explain_instance(x_test[i], predict_fn, event_distances, num_features=5, model_regressor = regressor, num_samples = 100)\n",
    "exp.show_in_notebook(show_all=False)"
   ]
  },
  {
   "cell_type": "code",
   "execution_count": null,
   "metadata": {},
   "outputs": [],
   "source": [
    "trace = regressor.trace\n",
    "az.summary(trace)\n",
    "# az.plot_posterior(weibull_trace, lw=0, alpha=0.5);"
   ]
  },
  {
   "cell_type": "code",
   "execution_count": null,
   "metadata": {},
   "outputs": [],
   "source": [
    "(exp.local_exp[0])"
   ]
  },
  {
   "cell_type": "code",
   "execution_count": null,
   "metadata": {},
   "outputs": [],
   "source": [
    "import kendall_w as kw\n",
    "import time\n",
    "samples = [10, 20, 30, 40, 50, 60, 70, 80, 90, 100, 120, 140, 160, 180, 200]"
   ]
  },
  {
   "cell_type": "code",
   "execution_count": null,
   "metadata": {
    "scrolled": true
   },
   "outputs": [],
   "source": [
    "'''\n",
    "LIME with censoring\n",
    "'''\n",
    "k = 200\n",
    "n = 200\n",
    "val = []\n",
    "explainer = lime.lime_tabular.LimeTabularExplainer(X_train.to_numpy() ,feature_names = numerical_columns+leave_columns,\n",
    "                                                   categorical_features=categorical_features, \n",
    "                                                   categorical_names=categorical_names, kernel_width=3, mode='regression', feature_selection = 'none')\n",
    "start_time = time.time()\n",
    "for i in samples:\n",
    "    print(i)\n",
    "    rankings = {}\n",
    "    for j in range(k):\n",
    "        i1 = 0\n",
    "        event = np.random.choice([False, True], size = i, p = [p1, p2])\n",
    "        event_distances = np.abs(event*1 - np.array(y_test_final['Overall Survival Status'][i1])*1)\n",
    "        exp = explainer.explain_instance(x_test[i1], predict_fn, event_distances = event_distances, num_features=5, num_samples = i)\n",
    "#         exp.show_in_notebook(show_all=False)\n",
    "        tuples = exp.local_exp[0]\n",
    "        for j1 in range(len(tuples)):\n",
    "            if tuples[j1][0] in rankings:\n",
    "                rankings[tuples[j1][0]].append(j1)\n",
    "            else:\n",
    "                rankings[tuples[j1][0]] = [j1]\n",
    "    final_list = []\n",
    "    for key in rankings:\n",
    "        final_list.append(rankings[key])\n",
    "    value = kw.compute_w(final_list)\n",
    "    val.append(value)\n",
    "print(\"--- %s seconds ---\" % (time.time() - start_time))"
   ]
  },
  {
   "cell_type": "code",
   "execution_count": null,
   "metadata": {},
   "outputs": [],
   "source": [
    "plt.plot(samples, val, label = 'lime')"
   ]
  },
  {
   "cell_type": "code",
   "execution_count": null,
   "metadata": {},
   "outputs": [],
   "source": [
    "'''\n",
    "LIME without censoring\n",
    "'''\n",
    "k = 200\n",
    "n = 200\n",
    "val_noncen = []\n",
    "explainer = lime.lime_tabular.LimeTabularExplainer(X_train.to_numpy() ,feature_names = numerical_columns+leave_columns,\n",
    "                                                   categorical_features=categorical_features, \n",
    "                                                   categorical_names=categorical_names, kernel_width=3, mode='regression', feature_selection = 'none')\n",
    "start_time = time.time()\n",
    "for i in samples:\n",
    "    print(i)\n",
    "    rankings = {}\n",
    "    for j in range(k):\n",
    "        i1 = 0\n",
    "#         event = np.random.choice([False, True], size = 5000, p = [p1, p2])\n",
    "        event_distances = 0\n",
    "        exp = explainer.explain_instance(x_test[i1], predict_fn, event_distances = event_distances, num_features=5, num_samples = i)\n",
    "#         exp.show_in_notebook(show_all=False)\n",
    "        tuples = exp.local_exp[0]\n",
    "        for j1 in range(len(tuples)):\n",
    "            if tuples[j1][0] in rankings:\n",
    "                rankings[tuples[j1][0]].append(j1)\n",
    "            else:\n",
    "                rankings[tuples[j1][0]] = [j1]\n",
    "    final_list = []\n",
    "    for key in rankings:\n",
    "        final_list.append(rankings[key])\n",
    "    value = kw.compute_w(final_list)\n",
    "    val_noncen.append(value)\n",
    "print(\"--- %s seconds ---\" % (time.time() - start_time))"
   ]
  },
  {
   "cell_type": "code",
   "execution_count": null,
   "metadata": {},
   "outputs": [],
   "source": [
    "# val = kendall_values\n",
    "plt.plot(samples, val_noncen, label = 'lime without censored')"
   ]
  },
  {
   "cell_type": "code",
   "execution_count": null,
   "metadata": {},
   "outputs": [],
   "source": [
    "'''\n",
    "AFT with censoring\n",
    "'''\n",
    "k = 200\n",
    "n = 200\n",
    "kendall_values_aft = []\n",
    "explainer = lime.lime_tabular.LimeTabularExplainer(X_train.to_numpy() ,feature_names = numerical_columns+leave_columns,\n",
    "                                                   categorical_features=categorical_features, \n",
    "                                                   categorical_names=categorical_names, kernel_width=3, mode='regression', feature_selection = 'none')\n",
    "for i in samples:\n",
    "    print(i)\n",
    "    rankings = {}\n",
    "    for j in range(k):\n",
    "#         print(j)\n",
    "        i1 = 0\n",
    "        event = np.random.choice([False, True], size = i, p = [p1, p2])\n",
    "        event_distances = np.abs(event*1 - np.array(y_test_final['Overall Survival Status'][i1])*1)\n",
    "        regressor = aft_model(num_samples = i, p1 = p1, p2 = p2, event = event, penalizer = 0.1)\n",
    "        exp = explainer.explain_instance(x_test[i1], predict_fn, event_distances = event_distances, num_features=5, num_samples = i, model_regressor = regressor)\n",
    "#         exp.show_in_notebook(show_all=False)\n",
    "        tuples = exp.local_exp[0]\n",
    "        for j1 in range(len(tuples)):\n",
    "            if tuples[j1][0] in rankings:\n",
    "                rankings[tuples[j1][0]].append(j1)\n",
    "            else:\n",
    "                rankings[tuples[j1][0]] = [j1]\n",
    "    final_list = []\n",
    "    for key in rankings:\n",
    "        final_list.append(rankings[key])\n",
    "    value = kw.compute_w(final_list)\n",
    "    kendall_values_aft.append(value)"
   ]
  },
  {
   "cell_type": "code",
   "execution_count": null,
   "metadata": {},
   "outputs": [],
   "source": [
    "plt.plot(samples, kendall_values_aft, label = 'aft weibull')"
   ]
  },
  {
   "cell_type": "code",
   "execution_count": null,
   "metadata": {},
   "outputs": [],
   "source": [
    "# '''\n",
    "# Bayesian AFT with censoring\n",
    "# '''\n",
    "# k = 200\n",
    "# n = 200\n",
    "# kendall_values_bay = []\n",
    "# explainer = lime.lime_tabular.LimeTabularExplainer(X_train.to_numpy() ,feature_names = numerical_columns+leave_columns,\n",
    "#                                                    categorical_features=categorical_features, \n",
    "#                                                    categorical_names=categorical_names, kernel_width=3, mode='regression', feature_selection = 'none')\n",
    "# for i in samples:\n",
    "#     print(i)\n",
    "#     rankings = {}\n",
    "#     for j in range(k):\n",
    "# #         print(j)\n",
    "#         i1 = 0\n",
    "#         event = np.random.choice([False, True], size = i, p = [p1, p2])\n",
    "#         event_distances = np.abs(event*1 - np.array(y_test_final['Overall Survival Status'][i1])*1)\n",
    "#         regressor = bayesian_aft_model(p1 = p1, p2 = p2, event = event)\n",
    "#         exp = explainer.explain_instance(x_test[i1], predict_fn, event_distances = event_distances, num_features=5, num_samples = i, model_regressor = regressor)\n",
    "# #         exp.show_in_notebook(show_all=False)\n",
    "#         tuples = exp.local_exp[0]\n",
    "#         for j1 in range(len(tuples)):\n",
    "#             if tuples[j1][0] in rankings:\n",
    "#                 rankings[tuples[j1][0]].append(j1)\n",
    "#             else:\n",
    "#                 rankings[tuples[j1][0]] = [j1]\n",
    "#     final_list = []\n",
    "#     for key in rankings:\n",
    "#         final_list.append(rankings[key])\n",
    "#     value = kw.compute_w(final_list)\n",
    "#     kendall_values_bay.append(value)"
   ]
  },
  {
   "cell_type": "code",
   "execution_count": null,
   "metadata": {},
   "outputs": [],
   "source": [
    "# plt.plot(samples, kendall_values_bay, label = 'bayesian aft weibull')"
   ]
  },
  {
   "cell_type": "code",
   "execution_count": null,
   "metadata": {},
   "outputs": [],
   "source": [
    "plt.plot(samples, val, label = 'lime with censoring')\n",
    "plt.plot(samples, val_noncen, label = 'lime without censoring')\n",
    "plt.plot(samples, kendall_values_aft, label = 'aft_weibull')\n",
    "# plt.plot(samples, kendall_values_bay, label = 'bayesian_aft_weibull')\n",
    "plt.xlabel(\"num samples\")\n",
    "plt.ylabel(\"Kendall's W\")\n",
    "plt.title(\"lime versus aft\")\n",
    "plt.legend()\n",
    "plt.show()"
   ]
  },
  {
   "cell_type": "code",
   "execution_count": null,
   "metadata": {},
   "outputs": [],
   "source": [
    "\n",
    "'''\n",
    "LIME with censoring\n",
    "'''\n",
    "explainer = lime.lime_tabular.LimeTabularExplainer(X_train.to_numpy() ,feature_names = numerical_columns+leave_columns,\n",
    "                                                   categorical_features=categorical_features, \n",
    "                                                   categorical_names=categorical_names, kernel_width=3, mode='regression', feature_selection = 'none')\n",
    "y_pred = predict_fn(X_train.to_numpy())\n",
    "i = 5\n",
    "y_cap = predict_fn(x_test[i].reshape((1, 14)))\n",
    "y_cap\n",
    "diff = -np.abs(y_cap-y_pred)\n",
    "indices = np.argsort(diff)\n",
    "top_k = 10\n",
    "print(indices)\n",
    "final_set = X_train.iloc[indices[:top_k], :].to_numpy()\n",
    "explanations = []\n",
    "for j in range(top_k):\n",
    "#     sample = final_set[j].reshape((1, 14))\n",
    "    event = np.random.choice([False, True], size = 100, p = [p1, p2])\n",
    "    event_distances = np.abs(event*1 - np.array(y_train_final['Overall Survival Status'][j])*1)\n",
    "    exp = explainer.explain_instance(final_set[j], predict_fn, event_distances, num_features=5, num_samples = 100)\n",
    "    explanations.append(exp.local_exp[0])\n",
    "#     exp.show_in_notebook(show_all=False)"
   ]
  },
  {
   "cell_type": "code",
   "execution_count": null,
   "metadata": {},
   "outputs": [],
   "source": [
    "average_explanations = []\n",
    "for i in range(X_train.shape[1]):\n",
    "    ex = []\n",
    "    for j in range(len(explanations)):\n",
    "        ex.append(explanations[j][i])\n",
    "    average_explanations.append(np.mean(ex))\n",
    "average_explanations"
   ]
  },
  {
   "cell_type": "code",
   "execution_count": null,
   "metadata": {},
   "outputs": [],
   "source": [
    "event = np.random.choice([False, True], size = 100, p = [p1, p2])\n",
    "regressor = bayesian_aft_model(p1 = p1, p2 = p2, event = event, prior_mean = average_explanations)\n",
    "explainer = lime.lime_tabular.LimeTabularExplainer(X_train.to_numpy() ,feature_names = numerical_columns+leave_columns,\n",
    "                                                   categorical_features=categorical_features, \n",
    "                                                   categorical_names=categorical_names, kernel_width=3, mode='regression', feature_selection = 'none')\n",
    "x_test = X_test.to_numpy()\n",
    "i = 5\n",
    "event_distances = 0\n",
    "exp = explainer.explain_instance(x_test[i], predict_fn, event_distances, num_features=5, model_regressor = regressor, num_samples = 100)\n",
    "exp.show_in_notebook(show_all=False)"
   ]
  },
  {
   "cell_type": "code",
   "execution_count": null,
   "metadata": {},
   "outputs": [],
   "source": [
    "exp.show_in_notebook(show_all=False)"
   ]
  },
  {
   "cell_type": "code",
   "execution_count": null,
   "metadata": {},
   "outputs": [],
   "source": [
    "'''\n",
    "AFT censoring\n",
    "'''\n",
    "explainer = lime.lime_tabular.LimeTabularExplainer(X_train.to_numpy() ,feature_names = numerical_columns+leave_columns,\n",
    "                                                   categorical_features=categorical_features, \n",
    "                                                   categorical_names=categorical_names, kernel_width=3, mode='regression', feature_selection = 'none')\n",
    "y_pred = predict_fn(X_train.to_numpy())\n",
    "i = 5\n",
    "y_cap = predict_fn(x_test[i].reshape((1, 14)))\n",
    "y_cap\n",
    "diff = -np.abs(y_cap-y_pred)\n",
    "indices = np.argsort(diff)\n",
    "top_k = 10\n",
    "print(indices)\n",
    "final_set = X_train.iloc[indices[:top_k], :].to_numpy()\n",
    "explanations = []\n",
    "for j in range(top_k):\n",
    "#     sample = final_set[j].reshape((1, 14))\n",
    "    event = np.random.choice([False, True], size = 100, p = [p1, p2])\n",
    "    event_distances = np.abs(event*1 - np.array(y_train_final['Overall Survival Status'][j])*1)\n",
    "    regressor = aft_model(p1 = p1, p2 = p2, event = event)\n",
    "    exp = explainer.explain_instance(final_set[j], predict_fn, event_distances, model_regressor = regressor, num_features=5, num_samples = 100)\n",
    "    explanations.append(exp.local_exp[0])\n",
    "#     exp.show_in_notebook(show_all=False)"
   ]
  },
  {
   "cell_type": "code",
   "execution_count": null,
   "metadata": {},
   "outputs": [],
   "source": [
    "average_explanations = []\n",
    "for i in range(X_train.shape[1]):\n",
    "    ex = []\n",
    "    for j in range(len(explanations)):\n",
    "        ex.append(explanations[j][i])\n",
    "    average_explanations.append(np.mean(ex))\n",
    "average_explanations"
   ]
  },
  {
   "cell_type": "code",
   "execution_count": null,
   "metadata": {},
   "outputs": [],
   "source": [
    "event = np.random.choice([False, True], size = 100, p = [p1, p2])\n",
    "regressor = bayesian_aft_model(p1 = p1, p2 = p2, event = event, prior_mean = average_explanations)\n",
    "explainer = lime.lime_tabular.LimeTabularExplainer(X_train.to_numpy() ,feature_names = numerical_columns+leave_columns,\n",
    "                                                   categorical_features=categorical_features, \n",
    "                                                   categorical_names=categorical_names, kernel_width=3, mode='regression', feature_selection = 'none')\n",
    "x_test = X_test.to_numpy()\n",
    "i = 5\n",
    "event_distances = np.abs(event*1 - np.array(y_test_final['Overall Survival Status'][i])*1)\n",
    "exp = explainer.explain_instance(x_test[i], predict_fn, event_distances, num_features=5, model_regressor = regressor, num_samples = 100)\n",
    "exp.show_in_notebook(show_all=False)"
   ]
  },
  {
   "cell_type": "code",
   "execution_count": null,
   "metadata": {},
   "outputs": [],
   "source": [
    "print(val)"
   ]
  },
  {
   "cell_type": "code",
   "execution_count": null,
   "metadata": {},
   "outputs": [],
   "source": [
    "print(kendall_values)"
   ]
  },
  {
   "cell_type": "code",
   "execution_count": null,
   "metadata": {},
   "outputs": [],
   "source": [
    "'''\n",
    "To Do\n",
    "1) Generate explanations with Kendall's w for censoring case.\n",
    "2) Remove censoring case the generate explanations.\n",
    "'''"
   ]
  },
  {
   "cell_type": "code",
   "execution_count": null,
   "metadata": {},
   "outputs": [],
   "source": [
    "# predict_fn = lambda x: ref_estimator.predict(x)"
   ]
  },
  {
   "cell_type": "code",
   "execution_count": null,
   "metadata": {},
   "outputs": [],
   "source": [
    "# columns = []\n",
    "# for feature in feature_index:\n",
    "#     if feature in categorical_features:\n",
    "#         for i in range(len(categorical_features[feature][\"values\"])):\n",
    "#             columns.append(feature+\"_\"+str(i))\n",
    "#     else:\n",
    "#         columns.append(feature)\n",
    "# df = pd.DataFrame(X_train_final, columns = columns)\n",
    "# df['time'] = y_train_log_t['Overall Survival (Months)']\n",
    "# df['censoring'] = y_train_log_t['Overall Survival Status']\n",
    "# df.head()"
   ]
  },
  {
   "cell_type": "code",
   "execution_count": null,
   "metadata": {},
   "outputs": [],
   "source": [
    "# aft = lifelines.WeibullAFTFitter()\n",
    "# aft.fit(df, duration_col = 'time', event_col = 'censoring')"
   ]
  },
  {
   "cell_type": "code",
   "execution_count": null,
   "metadata": {},
   "outputs": [],
   "source": [
    "# class explainable_ai_aft:\n",
    "    \n",
    "#     def __init__(self, sampling_strategy, regression_model, model):\n",
    "#         self.sampling_strategy = sampling_strategy\n",
    "#         self.model = model\n",
    "#         self.regression_model = regression_model\n",
    "    \n",
    "#     def generate_samples(self, categorical_features, numerical_features, feature_index, censoring_proba, num_samples):\n",
    "#         list = []\n",
    "#         for feature in feature_index:\n",
    "#             if feature in categorical_features:\n",
    "#                 sample = np.random.choice(categorical_features[feature][\"values\"], size = num_samples, p = categorical_features[feature][\"freq\"])\n",
    "#                 enc = OneHotEncoder()\n",
    "#                 sample_transform = enc.fit_transform(np.expand_dims(sample, axis = 1)).toarray()\n",
    "#                 print(feature)\n",
    "#                 print(sample_transform.shape)\n",
    "#                 list.append(sample_transform)\n",
    "#             else:\n",
    "#                 sample = numerical_features[feature][\"mean\"]+np.random.normal(size = num_samples)*numerical_features[feature][\"sigma\"]\n",
    "#                 scaler = MinMaxScaler()\n",
    "#                 list.append(scaler.fit_transform(np.expand_dims(sample, axis = 1)))\n",
    "#         censoring = np.random.choice([0, 1], size = num_samples, p = censoring_proba)\n",
    "#         return np.hstack(list), censoring\n",
    "    \n",
    "#     def explain(self, test_data, index, categorical_features, numerical_features, feature_index, censoring_proba, num_samples):\n",
    "#         samples, censoring = self.generate_samples(categorical_features, numerical_features, feature_index, censoring_proba, num_samples)\n",
    "#         weights = np.exp(-np.sqrt((np.sum(np.square(samples-test_data[index]), axis = 1))))\n",
    "#         print(samples.shape)\n",
    "#         print(censoring.shape)\n",
    "#         explainer = lifelines.WeibullAFTFitter()\n",
    "#         if self.regression_model == \"weibull\":\n",
    "#             explainer = lifelines.WeibullAFTFitter(penalizer = 0.05)\n",
    "#         elif self.regression_model == \"loglogistic\":\n",
    "#             explainer = lifelines.LogNormalAFTFitter(penalizer = 0.05)\n",
    "#         elif self.regression_model == \"LogLogisticAFTFitter\":\n",
    "#             explainer = lifelines.LogLogisticAFTFitter(penalizer = 0.05)\n",
    "#         columns = []\n",
    "#         for feature in feature_index:\n",
    "#             if feature in categorical_features:\n",
    "#                 for i in range(len(categorical_features[feature][\"values\"])):\n",
    "#                     columns.append(feature+\"_\"+str(i))    \n",
    "#             else:\n",
    "#                 columns.append(feature)\n",
    "#         print(len(columns))\n",
    "#         df = pd.DataFrame(samples, columns = columns)\n",
    "#         df['weights'] = weights\n",
    "#         df['time'] = self.model(samples)\n",
    "#         df['censoring'] = censoring\n",
    "#         explainer.fit(df, duration_col = 'time', event_col = 'censoring', weights_col = 'weights', robust = True)\n",
    "#         explainer.plot()\n",
    "#         plt.show()\n",
    "#         return df"
   ]
  },
  {
   "cell_type": "code",
   "execution_count": null,
   "metadata": {},
   "outputs": [],
   "source": [
    "# explainer = explainable_ai_aft(sampling_strategy = \"standard_normal\", regression_model = \"weibull\", model = predict_fn)\n",
    "# df = explainer.explain(X_test_final, 0, categorical_features, numerical_features, feature_index, censoring_proba, 5000)\n",
    "# df.head()"
   ]
  },
  {
   "cell_type": "code",
   "execution_count": null,
   "metadata": {},
   "outputs": [],
   "source": [
    "# categorical_features"
   ]
  },
  {
   "cell_type": "code",
   "execution_count": null,
   "metadata": {},
   "outputs": [],
   "source": [
    "# Cellularity\n",
    "# (100, 3)\n",
    "# Chemotherapy\n",
    "# (100, 2)\n",
    "# ER Status\n",
    "# (100, 2)\n",
    "# HER2 Status\n",
    "# (100, 2)\n",
    "# Tumor Other Histologic Subtype\n",
    "# (100, 6)\n",
    "# Inferred Menopausal State\n",
    "# (100, 2)\n",
    "# Primary Tumor Laterality\n",
    "# (100, 2)\n",
    "# PR Status\n",
    "# (100, 2)\n",
    "# Neoplasm Histologic Grade\n",
    "# (100, 3)\n",
    "# (100, 30)\n",
    "# (100,)\n",
    "# 32\n",
    "# # numerical_features"
   ]
  },
  {
   "cell_type": "code",
   "execution_count": null,
   "metadata": {},
   "outputs": [],
   "source": [
    "y_train_final['Overall Survival Status']"
   ]
  },
  {
   "cell_type": "code",
   "execution_count": null,
   "metadata": {},
   "outputs": [],
   "source": [
    "x_train"
   ]
  },
  {
   "cell_type": "code",
   "execution_count": null,
   "metadata": {},
   "outputs": [],
   "source": [
    "x_train.shape"
   ]
  },
  {
   "cell_type": "code",
   "execution_count": null,
   "metadata": {},
   "outputs": [],
   "source": [
    "np.append(x_train, y_train_final['Overall Survival Status'], axis = 1)\n",
    "x_train.shape"
   ]
  },
  {
   "cell_type": "code",
   "execution_count": null,
   "metadata": {},
   "outputs": [],
   "source": []
  }
 ],
 "metadata": {
  "kernelspec": {
   "display_name": "Python 3",
   "language": "python",
   "name": "python3"
  },
  "language_info": {
   "codemirror_mode": {
    "name": "ipython",
    "version": 3
   },
   "file_extension": ".py",
   "mimetype": "text/x-python",
   "name": "python",
   "nbconvert_exporter": "python",
   "pygments_lexer": "ipython3",
   "version": "3.6.8"
  }
 },
 "nbformat": 4,
 "nbformat_minor": 4
}
