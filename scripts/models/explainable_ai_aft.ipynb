{
 "cells": [
  {
   "cell_type": "code",
   "execution_count": 1,
   "metadata": {},
   "outputs": [],
   "source": [
    "import numpy as np\n",
    "import pandas as pd"
   ]
  },
  {
   "cell_type": "code",
   "execution_count": 2,
   "metadata": {},
   "outputs": [],
   "source": [
    "class AFT:\n",
    "    \n",
    "    def __init__(self):\n",
    "        pass\n",
    "        \n",
    "    def sampling(self, num_samples, data, categorical_features, numerical_features, survival_status):\n",
    "        df = pd.DataFrame()\n",
    "        for feature in categorical_features:\n",
    "            array = data[feature].to_numpy()\n",
    "            unique, counts = np.unique(array, return_counts=True)\n",
    "            df[feature] = np.random.choice(unique, size = num_samples, p = counts)\n",
    "        for feature in numerical_features:\n",
    "            array = data[feature].to_numpy()\n",
    "            mean = array.mean()\n",
    "            std = array.std()\n",
    "            df[feature] = std*(np.random.normal(0, 1, num_samples))+mean\n",
    "        array = survival_status.to_numpy()\n",
    "        unique, counts = np.unique(array, return_counts = True)\n",
    "        df['Survival Status'] = np.random.choice(unique, size = num_samples, p = counts)\n",
    "        return df\n",
    "        \n",
    "    def generate_explanations(self, data, survival_status, categorical_features, numerical_features, index, predict_fn, num_samples, explanation_type, weight_strategy, width = 0.75):\n",
    "        samples_df = self.sampling(num_samples, data, categorical_features, numerical_features, survival_status)\n",
    "#         test_sample = data[index]\n",
    "#         if weight_strategy == 'exponential_kernel':\n",
    "#             weights = np.exp(-np.square(test_sample-samples)/width)\n",
    "#         if explanation_type == 'aft':\n",
    "            "
   ]
  },
  {
   "cell_type": "code",
   "execution_count": null,
   "metadata": {},
   "outputs": [],
   "source": []
  }
 ],
 "metadata": {
  "kernelspec": {
   "display_name": "Python 3",
   "language": "python",
   "name": "python3"
  },
  "language_info": {
   "codemirror_mode": {
    "name": "ipython",
    "version": 3
   },
   "file_extension": ".py",
   "mimetype": "text/x-python",
   "name": "python",
   "nbconvert_exporter": "python",
   "pygments_lexer": "ipython3",
   "version": "3.6.8"
  }
 },
 "nbformat": 4,
 "nbformat_minor": 4
}
